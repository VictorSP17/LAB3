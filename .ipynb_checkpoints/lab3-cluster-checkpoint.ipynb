{
 "cells": [
  {
   "cell_type": "markdown",
   "metadata": {},
   "source": [
    "# Clustering\n",
    "\n",
    "-----------\n",
    "\n",
    "## Internet Analytics - Lab 3\n",
    "\n",
    "**Group**: J\n",
    "\n",
    "**Names**:\n",
    "\n",
    "* Maxime LANVIN\n",
    "* Victor SALVIA\n",
    "* Axel SJÖBERG"
   ]
  },
  {
   "cell_type": "markdown",
   "metadata": {},
   "source": [
    "In this notebook we will:\n",
    "\n",
    "* Use k-means on the low-dimensional embedding of tags we extracted earlier using PCA.\n",
    "* We will implement a variant of k-means that enables the use of non-Euclidean distances, and we will cluster movies based on genres"
   ]
  },
  {
   "cell_type": "code",
   "execution_count": 2,
   "metadata": {},
   "outputs": [
    {
     "data": {
      "text/html": [
       "\n",
       "    <div class=\"bk-root\">\n",
       "        <a href=\"https://bokeh.pydata.org\" target=\"_blank\" class=\"bk-logo bk-logo-small bk-logo-notebook\"></a>\n",
       "        <span id=\"1002\">Loading BokehJS ...</span>\n",
       "    </div>"
      ]
     },
     "metadata": {},
     "output_type": "display_data"
    },
    {
     "data": {
      "application/javascript": [
       "\n",
       "(function(root) {\n",
       "  function now() {\n",
       "    return new Date();\n",
       "  }\n",
       "\n",
       "  var force = true;\n",
       "\n",
       "  if (typeof root._bokeh_onload_callbacks === \"undefined\" || force === true) {\n",
       "    root._bokeh_onload_callbacks = [];\n",
       "    root._bokeh_is_loading = undefined;\n",
       "  }\n",
       "\n",
       "  var JS_MIME_TYPE = 'application/javascript';\n",
       "  var HTML_MIME_TYPE = 'text/html';\n",
       "  var EXEC_MIME_TYPE = 'application/vnd.bokehjs_exec.v0+json';\n",
       "  var CLASS_NAME = 'output_bokeh rendered_html';\n",
       "\n",
       "  /**\n",
       "   * Render data to the DOM node\n",
       "   */\n",
       "  function render(props, node) {\n",
       "    var script = document.createElement(\"script\");\n",
       "    node.appendChild(script);\n",
       "  }\n",
       "\n",
       "  /**\n",
       "   * Handle when an output is cleared or removed\n",
       "   */\n",
       "  function handleClearOutput(event, handle) {\n",
       "    var cell = handle.cell;\n",
       "\n",
       "    var id = cell.output_area._bokeh_element_id;\n",
       "    var server_id = cell.output_area._bokeh_server_id;\n",
       "    // Clean up Bokeh references\n",
       "    if (id != null && id in Bokeh.index) {\n",
       "      Bokeh.index[id].model.document.clear();\n",
       "      delete Bokeh.index[id];\n",
       "    }\n",
       "\n",
       "    if (server_id !== undefined) {\n",
       "      // Clean up Bokeh references\n",
       "      var cmd = \"from bokeh.io.state import curstate; print(curstate().uuid_to_server['\" + server_id + \"'].get_sessions()[0].document.roots[0]._id)\";\n",
       "      cell.notebook.kernel.execute(cmd, {\n",
       "        iopub: {\n",
       "          output: function(msg) {\n",
       "            var id = msg.content.text.trim();\n",
       "            if (id in Bokeh.index) {\n",
       "              Bokeh.index[id].model.document.clear();\n",
       "              delete Bokeh.index[id];\n",
       "            }\n",
       "          }\n",
       "        }\n",
       "      });\n",
       "      // Destroy server and session\n",
       "      var cmd = \"import bokeh.io.notebook as ion; ion.destroy_server('\" + server_id + \"')\";\n",
       "      cell.notebook.kernel.execute(cmd);\n",
       "    }\n",
       "  }\n",
       "\n",
       "  /**\n",
       "   * Handle when a new output is added\n",
       "   */\n",
       "  function handleAddOutput(event, handle) {\n",
       "    var output_area = handle.output_area;\n",
       "    var output = handle.output;\n",
       "\n",
       "    // limit handleAddOutput to display_data with EXEC_MIME_TYPE content only\n",
       "    if ((output.output_type != \"display_data\") || (!output.data.hasOwnProperty(EXEC_MIME_TYPE))) {\n",
       "      return\n",
       "    }\n",
       "\n",
       "    var toinsert = output_area.element.find(\".\" + CLASS_NAME.split(' ')[0]);\n",
       "\n",
       "    if (output.metadata[EXEC_MIME_TYPE][\"id\"] !== undefined) {\n",
       "      toinsert[toinsert.length - 1].firstChild.textContent = output.data[JS_MIME_TYPE];\n",
       "      // store reference to embed id on output_area\n",
       "      output_area._bokeh_element_id = output.metadata[EXEC_MIME_TYPE][\"id\"];\n",
       "    }\n",
       "    if (output.metadata[EXEC_MIME_TYPE][\"server_id\"] !== undefined) {\n",
       "      var bk_div = document.createElement(\"div\");\n",
       "      bk_div.innerHTML = output.data[HTML_MIME_TYPE];\n",
       "      var script_attrs = bk_div.children[0].attributes;\n",
       "      for (var i = 0; i < script_attrs.length; i++) {\n",
       "        toinsert[toinsert.length - 1].firstChild.setAttribute(script_attrs[i].name, script_attrs[i].value);\n",
       "      }\n",
       "      // store reference to server id on output_area\n",
       "      output_area._bokeh_server_id = output.metadata[EXEC_MIME_TYPE][\"server_id\"];\n",
       "    }\n",
       "  }\n",
       "\n",
       "  function register_renderer(events, OutputArea) {\n",
       "\n",
       "    function append_mime(data, metadata, element) {\n",
       "      // create a DOM node to render to\n",
       "      var toinsert = this.create_output_subarea(\n",
       "        metadata,\n",
       "        CLASS_NAME,\n",
       "        EXEC_MIME_TYPE\n",
       "      );\n",
       "      this.keyboard_manager.register_events(toinsert);\n",
       "      // Render to node\n",
       "      var props = {data: data, metadata: metadata[EXEC_MIME_TYPE]};\n",
       "      render(props, toinsert[toinsert.length - 1]);\n",
       "      element.append(toinsert);\n",
       "      return toinsert\n",
       "    }\n",
       "\n",
       "    /* Handle when an output is cleared or removed */\n",
       "    events.on('clear_output.CodeCell', handleClearOutput);\n",
       "    events.on('delete.Cell', handleClearOutput);\n",
       "\n",
       "    /* Handle when a new output is added */\n",
       "    events.on('output_added.OutputArea', handleAddOutput);\n",
       "\n",
       "    /**\n",
       "     * Register the mime type and append_mime function with output_area\n",
       "     */\n",
       "    OutputArea.prototype.register_mime_type(EXEC_MIME_TYPE, append_mime, {\n",
       "      /* Is output safe? */\n",
       "      safe: true,\n",
       "      /* Index of renderer in `output_area.display_order` */\n",
       "      index: 0\n",
       "    });\n",
       "  }\n",
       "\n",
       "  // register the mime type if in Jupyter Notebook environment and previously unregistered\n",
       "  if (root.Jupyter !== undefined) {\n",
       "    var events = require('base/js/events');\n",
       "    var OutputArea = require('notebook/js/outputarea').OutputArea;\n",
       "\n",
       "    if (OutputArea.prototype.mime_types().indexOf(EXEC_MIME_TYPE) == -1) {\n",
       "      register_renderer(events, OutputArea);\n",
       "    }\n",
       "  }\n",
       "\n",
       "  \n",
       "  if (typeof (root._bokeh_timeout) === \"undefined\" || force === true) {\n",
       "    root._bokeh_timeout = Date.now() + 5000;\n",
       "    root._bokeh_failed_load = false;\n",
       "  }\n",
       "\n",
       "  var NB_LOAD_WARNING = {'data': {'text/html':\n",
       "     \"<div style='background-color: #fdd'>\\n\"+\n",
       "     \"<p>\\n\"+\n",
       "     \"BokehJS does not appear to have successfully loaded. If loading BokehJS from CDN, this \\n\"+\n",
       "     \"may be due to a slow or bad network connection. Possible fixes:\\n\"+\n",
       "     \"</p>\\n\"+\n",
       "     \"<ul>\\n\"+\n",
       "     \"<li>re-rerun `output_notebook()` to attempt to load from CDN again, or</li>\\n\"+\n",
       "     \"<li>use INLINE resources instead, as so:</li>\\n\"+\n",
       "     \"</ul>\\n\"+\n",
       "     \"<code>\\n\"+\n",
       "     \"from bokeh.resources import INLINE\\n\"+\n",
       "     \"output_notebook(resources=INLINE)\\n\"+\n",
       "     \"</code>\\n\"+\n",
       "     \"</div>\"}};\n",
       "\n",
       "  function display_loaded() {\n",
       "    var el = document.getElementById(\"1002\");\n",
       "    if (el != null) {\n",
       "      el.textContent = \"BokehJS is loading...\";\n",
       "    }\n",
       "    if (root.Bokeh !== undefined) {\n",
       "      if (el != null) {\n",
       "        el.textContent = \"BokehJS \" + root.Bokeh.version + \" successfully loaded.\";\n",
       "      }\n",
       "    } else if (Date.now() < root._bokeh_timeout) {\n",
       "      setTimeout(display_loaded, 100)\n",
       "    }\n",
       "  }\n",
       "\n",
       "\n",
       "  function run_callbacks() {\n",
       "    try {\n",
       "      root._bokeh_onload_callbacks.forEach(function(callback) {\n",
       "        if (callback != null)\n",
       "          callback();\n",
       "      });\n",
       "    } finally {\n",
       "      delete root._bokeh_onload_callbacks\n",
       "    }\n",
       "    console.debug(\"Bokeh: all callbacks have finished\");\n",
       "  }\n",
       "\n",
       "  function load_libs(css_urls, js_urls, callback) {\n",
       "    if (css_urls == null) css_urls = [];\n",
       "    if (js_urls == null) js_urls = [];\n",
       "\n",
       "    root._bokeh_onload_callbacks.push(callback);\n",
       "    if (root._bokeh_is_loading > 0) {\n",
       "      console.debug(\"Bokeh: BokehJS is being loaded, scheduling callback at\", now());\n",
       "      return null;\n",
       "    }\n",
       "    if (js_urls == null || js_urls.length === 0) {\n",
       "      run_callbacks();\n",
       "      return null;\n",
       "    }\n",
       "    console.debug(\"Bokeh: BokehJS not loaded, scheduling load and callback at\", now());\n",
       "    root._bokeh_is_loading = css_urls.length + js_urls.length;\n",
       "\n",
       "    function on_load() {\n",
       "      root._bokeh_is_loading--;\n",
       "      if (root._bokeh_is_loading === 0) {\n",
       "        console.debug(\"Bokeh: all BokehJS libraries/stylesheets loaded\");\n",
       "        run_callbacks()\n",
       "      }\n",
       "    }\n",
       "\n",
       "    function on_error() {\n",
       "      console.error(\"failed to load \" + url);\n",
       "    }\n",
       "\n",
       "    for (var i = 0; i < css_urls.length; i++) {\n",
       "      var url = css_urls[i];\n",
       "      const element = document.createElement(\"link\");\n",
       "      element.onload = on_load;\n",
       "      element.onerror = on_error;\n",
       "      element.rel = \"stylesheet\";\n",
       "      element.type = \"text/css\";\n",
       "      element.href = url;\n",
       "      console.debug(\"Bokeh: injecting link tag for BokehJS stylesheet: \", url);\n",
       "      document.body.appendChild(element);\n",
       "    }\n",
       "\n",
       "    for (var i = 0; i < js_urls.length; i++) {\n",
       "      var url = js_urls[i];\n",
       "      var element = document.createElement('script');\n",
       "      element.onload = on_load;\n",
       "      element.onerror = on_error;\n",
       "      element.async = false;\n",
       "      element.src = url;\n",
       "      console.debug(\"Bokeh: injecting script tag for BokehJS library: \", url);\n",
       "      document.head.appendChild(element);\n",
       "    }\n",
       "  };var element = document.getElementById(\"1002\");\n",
       "  if (element == null) {\n",
       "    console.error(\"Bokeh: ERROR: autoload.js configured with elementid '1002' but no matching script tag was found. \")\n",
       "    return false;\n",
       "  }\n",
       "\n",
       "  function inject_raw_css(css) {\n",
       "    const element = document.createElement(\"style\");\n",
       "    element.appendChild(document.createTextNode(css));\n",
       "    document.body.appendChild(element);\n",
       "  }\n",
       "\n",
       "  var js_urls = [\"https://cdn.pydata.org/bokeh/release/bokeh-1.3.4.min.js\", \"https://cdn.pydata.org/bokeh/release/bokeh-widgets-1.3.4.min.js\", \"https://cdn.pydata.org/bokeh/release/bokeh-tables-1.3.4.min.js\", \"https://cdn.pydata.org/bokeh/release/bokeh-gl-1.3.4.min.js\"];\n",
       "  var css_urls = [];\n",
       "\n",
       "  var inline_js = [\n",
       "    function(Bokeh) {\n",
       "      Bokeh.set_log_level(\"info\");\n",
       "    },\n",
       "    \n",
       "    function(Bokeh) {\n",
       "      \n",
       "    },\n",
       "    function(Bokeh) {} // ensure no trailing comma for IE\n",
       "  ];\n",
       "\n",
       "  function run_inline_js() {\n",
       "    \n",
       "    if ((root.Bokeh !== undefined) || (force === true)) {\n",
       "      for (var i = 0; i < inline_js.length; i++) {\n",
       "        inline_js[i].call(root, root.Bokeh);\n",
       "      }if (force === true) {\n",
       "        display_loaded();\n",
       "      }} else if (Date.now() < root._bokeh_timeout) {\n",
       "      setTimeout(run_inline_js, 100);\n",
       "    } else if (!root._bokeh_failed_load) {\n",
       "      console.log(\"Bokeh: BokehJS failed to load within specified timeout.\");\n",
       "      root._bokeh_failed_load = true;\n",
       "    } else if (force !== true) {\n",
       "      var cell = $(document.getElementById(\"1002\")).parents('.cell').data().cell;\n",
       "      cell.output_area.append_execute_result(NB_LOAD_WARNING)\n",
       "    }\n",
       "\n",
       "  }\n",
       "\n",
       "  if (root._bokeh_is_loading === 0) {\n",
       "    console.debug(\"Bokeh: BokehJS loaded, going straight to plotting\");\n",
       "    run_inline_js();\n",
       "  } else {\n",
       "    load_libs(css_urls, js_urls, function() {\n",
       "      console.debug(\"Bokeh: BokehJS plotting callback run at\", now());\n",
       "      run_inline_js();\n",
       "    });\n",
       "  }\n",
       "}(window));"
      ],
      "application/vnd.bokehjs_load.v0+json": "\n(function(root) {\n  function now() {\n    return new Date();\n  }\n\n  var force = true;\n\n  if (typeof root._bokeh_onload_callbacks === \"undefined\" || force === true) {\n    root._bokeh_onload_callbacks = [];\n    root._bokeh_is_loading = undefined;\n  }\n\n  \n\n  \n  if (typeof (root._bokeh_timeout) === \"undefined\" || force === true) {\n    root._bokeh_timeout = Date.now() + 5000;\n    root._bokeh_failed_load = false;\n  }\n\n  var NB_LOAD_WARNING = {'data': {'text/html':\n     \"<div style='background-color: #fdd'>\\n\"+\n     \"<p>\\n\"+\n     \"BokehJS does not appear to have successfully loaded. If loading BokehJS from CDN, this \\n\"+\n     \"may be due to a slow or bad network connection. Possible fixes:\\n\"+\n     \"</p>\\n\"+\n     \"<ul>\\n\"+\n     \"<li>re-rerun `output_notebook()` to attempt to load from CDN again, or</li>\\n\"+\n     \"<li>use INLINE resources instead, as so:</li>\\n\"+\n     \"</ul>\\n\"+\n     \"<code>\\n\"+\n     \"from bokeh.resources import INLINE\\n\"+\n     \"output_notebook(resources=INLINE)\\n\"+\n     \"</code>\\n\"+\n     \"</div>\"}};\n\n  function display_loaded() {\n    var el = document.getElementById(\"1002\");\n    if (el != null) {\n      el.textContent = \"BokehJS is loading...\";\n    }\n    if (root.Bokeh !== undefined) {\n      if (el != null) {\n        el.textContent = \"BokehJS \" + root.Bokeh.version + \" successfully loaded.\";\n      }\n    } else if (Date.now() < root._bokeh_timeout) {\n      setTimeout(display_loaded, 100)\n    }\n  }\n\n\n  function run_callbacks() {\n    try {\n      root._bokeh_onload_callbacks.forEach(function(callback) {\n        if (callback != null)\n          callback();\n      });\n    } finally {\n      delete root._bokeh_onload_callbacks\n    }\n    console.debug(\"Bokeh: all callbacks have finished\");\n  }\n\n  function load_libs(css_urls, js_urls, callback) {\n    if (css_urls == null) css_urls = [];\n    if (js_urls == null) js_urls = [];\n\n    root._bokeh_onload_callbacks.push(callback);\n    if (root._bokeh_is_loading > 0) {\n      console.debug(\"Bokeh: BokehJS is being loaded, scheduling callback at\", now());\n      return null;\n    }\n    if (js_urls == null || js_urls.length === 0) {\n      run_callbacks();\n      return null;\n    }\n    console.debug(\"Bokeh: BokehJS not loaded, scheduling load and callback at\", now());\n    root._bokeh_is_loading = css_urls.length + js_urls.length;\n\n    function on_load() {\n      root._bokeh_is_loading--;\n      if (root._bokeh_is_loading === 0) {\n        console.debug(\"Bokeh: all BokehJS libraries/stylesheets loaded\");\n        run_callbacks()\n      }\n    }\n\n    function on_error() {\n      console.error(\"failed to load \" + url);\n    }\n\n    for (var i = 0; i < css_urls.length; i++) {\n      var url = css_urls[i];\n      const element = document.createElement(\"link\");\n      element.onload = on_load;\n      element.onerror = on_error;\n      element.rel = \"stylesheet\";\n      element.type = \"text/css\";\n      element.href = url;\n      console.debug(\"Bokeh: injecting link tag for BokehJS stylesheet: \", url);\n      document.body.appendChild(element);\n    }\n\n    for (var i = 0; i < js_urls.length; i++) {\n      var url = js_urls[i];\n      var element = document.createElement('script');\n      element.onload = on_load;\n      element.onerror = on_error;\n      element.async = false;\n      element.src = url;\n      console.debug(\"Bokeh: injecting script tag for BokehJS library: \", url);\n      document.head.appendChild(element);\n    }\n  };var element = document.getElementById(\"1002\");\n  if (element == null) {\n    console.error(\"Bokeh: ERROR: autoload.js configured with elementid '1002' but no matching script tag was found. \")\n    return false;\n  }\n\n  function inject_raw_css(css) {\n    const element = document.createElement(\"style\");\n    element.appendChild(document.createTextNode(css));\n    document.body.appendChild(element);\n  }\n\n  var js_urls = [\"https://cdn.pydata.org/bokeh/release/bokeh-1.3.4.min.js\", \"https://cdn.pydata.org/bokeh/release/bokeh-widgets-1.3.4.min.js\", \"https://cdn.pydata.org/bokeh/release/bokeh-tables-1.3.4.min.js\", \"https://cdn.pydata.org/bokeh/release/bokeh-gl-1.3.4.min.js\"];\n  var css_urls = [];\n\n  var inline_js = [\n    function(Bokeh) {\n      Bokeh.set_log_level(\"info\");\n    },\n    \n    function(Bokeh) {\n      \n    },\n    function(Bokeh) {} // ensure no trailing comma for IE\n  ];\n\n  function run_inline_js() {\n    \n    if ((root.Bokeh !== undefined) || (force === true)) {\n      for (var i = 0; i < inline_js.length; i++) {\n        inline_js[i].call(root, root.Bokeh);\n      }if (force === true) {\n        display_loaded();\n      }} else if (Date.now() < root._bokeh_timeout) {\n      setTimeout(run_inline_js, 100);\n    } else if (!root._bokeh_failed_load) {\n      console.log(\"Bokeh: BokehJS failed to load within specified timeout.\");\n      root._bokeh_failed_load = true;\n    } else if (force !== true) {\n      var cell = $(document.getElementById(\"1002\")).parents('.cell').data().cell;\n      cell.output_area.append_execute_result(NB_LOAD_WARNING)\n    }\n\n  }\n\n  if (root._bokeh_is_loading === 0) {\n    console.debug(\"Bokeh: BokehJS loaded, going straight to plotting\");\n    run_inline_js();\n  } else {\n    load_libs(css_urls, js_urls, function() {\n      console.debug(\"Bokeh: BokehJS plotting callback run at\", now());\n      run_inline_js();\n    });\n  }\n}(window));"
     },
     "metadata": {},
     "output_type": "display_data"
    }
   ],
   "source": [
    "import json\n",
    "import matplotlib.pyplot as plt\n",
    "import numpy as np\n",
    "import pickle\n",
    "from sklearn.cluster import KMeans\n",
    "from operator import itemgetter\n",
    "from bokeh.palettes import Dark2_8\n",
    "from bokeh.io import show, output_notebook\n",
    "from bokeh.plotting import figure, ColumnDataSource\n",
    "from bokeh.models import HoverTool, ResetTool, PanTool, WheelZoomTool, SaveTool\n",
    "output_notebook()\n",
    "from random import randint\n",
    "import random\n",
    "\n",
    "%matplotlib inline\n",
    "plt.style.use(\"ggplot\")"
   ]
  },
  {
   "cell_type": "code",
   "execution_count": 21,
   "metadata": {},
   "outputs": [],
   "source": [
    "tags = sc.textFile(\"/ix/ml-20m/genome-tags.txt\").map(json.loads)\n",
    "tag_scores = sc.textFile(\"/ix/ml-20m/genome-scores.txt\").map(json.loads)\n",
    "movies_ini = sc.textFile(\"/ix/ml-20m/movies.txt\").map(json.loads)\n",
    "\n",
    "IDT = dict(tags.map(itemgetter(\"tagId\", \"tag\")).collect())\n",
    "IDM = dict(movies_ini.map(itemgetter(\"movieId\", \"title\")).collect())"
   ]
  },
  {
   "cell_type": "code",
   "execution_count": 4,
   "metadata": {},
   "outputs": [],
   "source": [
    "M = 1128 # tags\n",
    "N = 10381 # movies with tags"
   ]
  },
  {
   "cell_type": "code",
   "execution_count": 5,
   "metadata": {},
   "outputs": [],
   "source": [
    "matrix = tag_scores.map(itemgetter(\"tagId\", \"movieId\", \"relevance\"))\n",
    "matrix = np.asarray(matrix.collect())"
   ]
  },
  {
   "cell_type": "code",
   "execution_count": 6,
   "metadata": {},
   "outputs": [],
   "source": [
    "n = len(matrix)\n",
    "X = np.zeros((1128,10381)) # 1128 tags, 10381 movies\n",
    "m = -1\n",
    "moviesID = np.zeros(10381)\n",
    "\n",
    "for i in range(0,n):\n",
    "    if i % 1128 == 0:\n",
    "        m = m + 1\n",
    "        moviesID[m] = matrix[i][1]\n",
    "    \n",
    "    X[int(matrix[i][0])-1][m] = matrix[i][2]"
   ]
  },
  {
   "cell_type": "markdown",
   "metadata": {
    "collapsed": true
   },
   "source": [
    "------\n",
    "-----\n",
    "\n",
    "\n",
    "# EXERCISE 3.11: Clustering Tags\n",
    "\n",
    "Load the tag embedding that you created at the end of Exercise 3.2.\n",
    "\n",
    "* Cluster the data using the k-means clustering algorithm. Try k ∈ {2,...,5}.\n",
    "* Visualize the clusters using an interactive bokeh plot.\n",
    "* Try projecting on different principal directions.\n",
    "\n",
    "Which principal directions separate the clusters well?\n",
    "\n",
    "-------\n",
    "------"
   ]
  },
  {
   "cell_type": "code",
   "execution_count": 7,
   "metadata": {},
   "outputs": [],
   "source": [
    "with open(\"tag_to_5pc\", \"rb\") as f:\n",
    "    tag_to_5pc = pickle.load(f, encoding=\"utf-8\") # This is a dictionary --> dic[tagID] = [pc1,...,pc5]"
   ]
  },
  {
   "cell_type": "code",
   "execution_count": 8,
   "metadata": {},
   "outputs": [],
   "source": [
    "PC5 = np.zeros((M,5))\n",
    "for i in range(1,M+1):\n",
    "    PC5[i-1,:] = tag_to_5pc[i]\n",
    "\n",
    "pc1 = PC5[:,0]\n",
    "pc2 = PC5[:,1]\n",
    "pc3 = PC5[:,2]\n",
    "pc4 = PC5[:,3]\n",
    "pc5 = PC5[:,4]"
   ]
  },
  {
   "cell_type": "markdown",
   "metadata": {},
   "source": [
    "## K-means clustering\n",
    "\n",
    "Recall that this is an iterative algorithm in which we:\n",
    "\n",
    "1. Initialize $K$ means for the different clusters at random.\n",
    "2. Iterate the following process until convergence:\n",
    "    * Assign each data point the closest mean.\n",
    "    * Update the mean as the center of mass of its points.\n",
    "    \n",
    "We will try with $K \\in \\{2,...,5\\}$."
   ]
  },
  {
   "cell_type": "markdown",
   "metadata": {},
   "source": [
    "We will project all the movies in the low-dimensional space generated by the 5 principal components saved earlier. Once we run the algorithm in this space we will project it in different components to be able to visualize the results.\n",
    "\n",
    "**Projection:** (which theory we explained in the first notebook)"
   ]
  },
  {
   "cell_type": "code",
   "execution_count": 9,
   "metadata": {},
   "outputs": [],
   "source": [
    "X_pro = np.dot(np.transpose(PC5), X) # this is the projection of all the data points in the first 5 components."
   ]
  },
  {
   "cell_type": "code",
   "execution_count": 10,
   "metadata": {
    "scrolled": true
   },
   "outputs": [],
   "source": [
    "km2 = KMeans(n_clusters=2, init='random', n_init=10, max_iter=300, tol=1e-04).fit(np.transpose(X_pro)) # it runs 10 times.\n",
    "km3 = KMeans(n_clusters=3, init='random', n_init=10, max_iter=300, tol=1e-04).fit(np.transpose(X_pro))\n",
    "km4 = KMeans(n_clusters=4, init='random', n_init=10, max_iter=300, tol=1e-04).fit(np.transpose(X_pro))\n",
    "km5 = KMeans(n_clusters=5, init='random', n_init=10, max_iter=300, tol=1e-04).fit(np.transpose(X_pro))"
   ]
  },
  {
   "cell_type": "code",
   "execution_count": 11,
   "metadata": {},
   "outputs": [
    {
     "data": {
      "text/plain": [
       "array([-0.17784656, -0.1618281 ])"
      ]
     },
     "execution_count": 11,
     "metadata": {},
     "output_type": "execute_result"
    }
   ],
   "source": [
    "a = km5.cluster_centers_\n",
    "a[0][2:4]"
   ]
  },
  {
   "cell_type": "code",
   "execution_count": 12,
   "metadata": {},
   "outputs": [
    {
     "data": {
      "text/plain": [
       "array([0], dtype=int32)"
      ]
     },
     "execution_count": 12,
     "metadata": {},
     "output_type": "execute_result"
    }
   ],
   "source": [
    "km5.predict(a[0].reshape(1,5))"
   ]
  },
  {
   "cell_type": "markdown",
   "metadata": {},
   "source": [
    "## Visualize the result in 2D for the different K's (try different PC's)\n",
    "\n",
    "We will now project the results in a 2D space and visualize the results. Also, we will try different PC's to see which combination works best for the sake of visualization. We will use the selected movies as well for the sake of visualization as well."
   ]
  },
  {
   "cell_type": "code",
   "execution_count": 13,
   "metadata": {},
   "outputs": [],
   "source": [
    "with open(\"selected-movies.pickle\", \"rb\") as f:\n",
    "    movies = pickle.load(f, encoding=\"utf-8\")"
   ]
  },
  {
   "cell_type": "markdown",
   "metadata": {},
   "source": [
    "### K = 2"
   ]
  },
  {
   "cell_type": "code",
   "execution_count": 14,
   "metadata": {},
   "outputs": [
    {
     "data": {
      "text/html": [
       "\n",
       "\n",
       "\n",
       "\n",
       "\n",
       "\n",
       "  <div class=\"bk-root\" id=\"1132639a-6a19-4535-9e9b-48653d26b987\" data-root-id=\"1009\"></div>\n"
      ]
     },
     "metadata": {},
     "output_type": "display_data"
    },
    {
     "data": {
      "application/javascript": [
       "(function(root) {\n",
       "  function embed_document(root) {\n",
       "    \n",
       "  var docs_json = {\"ba26256f-7d55-47aa-a6ae-0b8aed86b096\":{\"roots\":{\"references\":[{\"attributes\":{\"below\":[{\"id\":\"1020\",\"type\":\"LinearAxis\"}],\"center\":[{\"id\":\"1024\",\"type\":\"Grid\"},{\"id\":\"1029\",\"type\":\"Grid\"}],\"left\":[{\"id\":\"1025\",\"type\":\"LinearAxis\"}],\"plot_height\":360,\"plot_width\":960,\"renderers\":[{\"id\":\"1039\",\"type\":\"GlyphRenderer\"}],\"title\":{\"id\":\"1010\",\"type\":\"Title\"},\"toolbar\":{\"id\":\"1030\",\"type\":\"Toolbar\"},\"x_range\":{\"id\":\"1012\",\"type\":\"DataRange1d\"},\"x_scale\":{\"id\":\"1016\",\"type\":\"LinearScale\"},\"y_range\":{\"id\":\"1014\",\"type\":\"DataRange1d\"},\"y_scale\":{\"id\":\"1018\",\"type\":\"LinearScale\"}},\"id\":\"1009\",\"subtype\":\"Figure\",\"type\":\"Plot\"},{\"attributes\":{\"axis_label\":\"PC2\",\"formatter\":{\"id\":\"1044\",\"type\":\"BasicTickFormatter\"},\"ticker\":{\"id\":\"1026\",\"type\":\"BasicTicker\"}},\"id\":\"1025\",\"type\":\"LinearAxis\"},{\"attributes\":{},\"id\":\"1021\",\"type\":\"BasicTicker\"},{\"attributes\":{\"callback\":null},\"id\":\"1012\",\"type\":\"DataRange1d\"},{\"attributes\":{\"axis_label\":\"PC1\",\"formatter\":{\"id\":\"1042\",\"type\":\"BasicTickFormatter\"},\"ticker\":{\"id\":\"1021\",\"type\":\"BasicTicker\"}},\"id\":\"1020\",\"type\":\"LinearAxis\"},{\"attributes\":{},\"id\":\"1018\",\"type\":\"LinearScale\"},{\"attributes\":{},\"id\":\"1026\",\"type\":\"BasicTicker\"},{\"attributes\":{\"text\":\"K = 2\"},\"id\":\"1010\",\"type\":\"Title\"},{\"attributes\":{\"active_drag\":\"auto\",\"active_inspect\":\"auto\",\"active_multi\":null,\"active_scroll\":\"auto\",\"active_tap\":\"auto\",\"tools\":[{\"id\":\"1004\",\"type\":\"HoverTool\"},{\"id\":\"1005\",\"type\":\"ResetTool\"},{\"id\":\"1006\",\"type\":\"PanTool\"},{\"id\":\"1007\",\"type\":\"WheelZoomTool\"},{\"id\":\"1008\",\"type\":\"SaveTool\"}]},\"id\":\"1030\",\"type\":\"Toolbar\"},{\"attributes\":{\"callback\":null},\"id\":\"1014\",\"type\":\"DataRange1d\"},{\"attributes\":{\"callback\":null,\"data\":{\"color\":[\"#d95f02\",\"#d95f02\",\"#1b9e77\",\"#1b9e77\",\"#1b9e77\",\"#1b9e77\",\"#1b9e77\",\"#d95f02\",\"#d95f02\",\"#1b9e77\",\"#1b9e77\",\"#1b9e77\",\"#1b9e77\",\"#d95f02\",\"#1b9e77\",\"#d95f02\",\"#1b9e77\",\"#1b9e77\",\"#d95f02\",\"#1b9e77\",\"#1b9e77\",\"#d95f02\",\"#d95f02\",\"#1b9e77\",\"#1b9e77\",\"#1b9e77\",\"#1b9e77\",\"#1b9e77\",\"#1b9e77\",\"#1b9e77\",\"#1b9e77\",\"#1b9e77\",\"#1b9e77\",\"#1b9e77\",\"#1b9e77\",\"#1b9e77\",\"#d95f02\"],\"name\":[\"Independence Day (a.k.a. ID4) (1996)\",\"Spider-Man (2002)\",\"Matrix, The (1999)\",\"Shawshank Redemption, The (1994)\",\"American History X (1998)\",\"Wild Strawberries (Smultronst\\u00e4llet) (1957)\",\"Control (2007)\",\"Miss Congeniality 2: Armed and Fabulous (2005)\",\"Just My Luck (2006)\",\"Santa Sangre (1989)\",\"Videodrome (1983)\",\"Billy Elliot (2000)\",\"Pride (2014)\",\"Jurassic Park (1993)\",\"Star Wars: Episode IV - A New Hope (1977)\",\"Princess Diaries, The (2001)\",\"Schindler's List (1993)\",\"Fight Club (1999)\",\"New York Ripper, The (Squartatore di New York, Lo) (1982)\",\"American Beauty (1999)\",\"City of God (Cidade de Deus) (2002)\",\"Battleship (2012)\",\"Take Care of My Cat (Goyangileul butaghae) (2001)\",\"Terminator, The (1984)\",\"Edge of Tomorrow (2014)\",\"Forrest Gump (1994)\",\"King's Speech, The (2010)\",\"Life Is Beautiful (La Vita \\u00e8 bella) (1997)\",\"Stage Fright (Deliria) (1987)\",\"Ichi the Killer (Koroshiya 1) (2001)\",\"Brazil (1985)\",\"Fountain, The (2006)\",\"Accused, The (1988)\",\"Time to Kill, A (1996)\",\"Ghost Writer, The (2010)\",\"Superbad (2007)\",\"American Pie (1999)\"],\"x\":[1.9563192464706576,2.423473011939731,6.1669229949762885,8.263266304963055,8.407282228254966,7.4675852350725,7.309527270150396,0.27638073270278973,0.09133591026512591,5.478011932785142,4.33573841598389,5.112584895129653,5.350205221235805,3.4670611846015564,5.283249654357828,0.7511985315999703,8.01286285082763,8.448732889671694,2.628179377648641,8.594701228394436,8.862855699951107,0.07895014805737957,2.558724956197571,4.887597829601457,4.356287831804954,6.080402888934177,6.351129429131258,6.608352902835764,4.417500015444918,4.314339943618693,6.342243226893636,5.7834002844838945,5.784931428017216,3.7555094955835977,5.4392321326182325,3.691139544110921,2.212503735032812],\"y\":[-7.004651322298648,-6.568361706153165,-8.288756869341004,-5.846979358682063,-4.8791047963082255,-1.096127281170239,-1.8150512541562502,-2.2894303250116406,-1.8303448652081353,-1.860157087282964,-1.8528059086619635,-2.220114087389764,-1.8469216704740545,-7.283029689024392,-7.576582963071945,-2.300994940111539,-4.795991450586846,-5.661292452125193,-2.9951092439009486,-3.1185938681355045,-4.322910455168616,-4.951407849275805,0.21770525613205752,-7.444349465494808,-7.0766292577588095,-5.029462539700721,-3.740124508583709,-3.5359042615520346,-2.8265967275157395,-2.541359361363761,-3.2403711678747125,-2.8005467589011497,-3.482605027518492,-3.8082300471480064,-3.722982094802201,-2.7906872889413767,-3.6432593003081357]},\"selected\":{\"id\":\"1047\",\"type\":\"Selection\"},\"selection_policy\":{\"id\":\"1046\",\"type\":\"UnionRenderers\"}},\"id\":\"1003\",\"type\":\"ColumnDataSource\"},{\"attributes\":{\"fill_alpha\":{\"value\":0.5},\"fill_color\":{\"field\":\"color\"},\"line_alpha\":{\"value\":0.5},\"line_color\":{\"field\":\"color\"},\"size\":{\"units\":\"screen\",\"value\":20},\"x\":{\"field\":\"x\"},\"y\":{\"field\":\"y\"}},\"id\":\"1037\",\"type\":\"Circle\"},{\"attributes\":{},\"id\":\"1007\",\"type\":\"WheelZoomTool\"},{\"attributes\":{},\"id\":\"1016\",\"type\":\"LinearScale\"},{\"attributes\":{},\"id\":\"1047\",\"type\":\"Selection\"},{\"attributes\":{\"fill_alpha\":{\"value\":0.1},\"fill_color\":{\"value\":\"#1f77b4\"},\"line_alpha\":{\"value\":0.1},\"line_color\":{\"value\":\"#1f77b4\"},\"size\":{\"units\":\"screen\",\"value\":20},\"x\":{\"field\":\"x\"},\"y\":{\"field\":\"y\"}},\"id\":\"1038\",\"type\":\"Circle\"},{\"attributes\":{},\"id\":\"1044\",\"type\":\"BasicTickFormatter\"},{\"attributes\":{\"data_source\":{\"id\":\"1003\",\"type\":\"ColumnDataSource\"},\"glyph\":{\"id\":\"1037\",\"type\":\"Circle\"},\"hover_glyph\":null,\"muted_glyph\":null,\"nonselection_glyph\":{\"id\":\"1038\",\"type\":\"Circle\"},\"selection_glyph\":null,\"view\":{\"id\":\"1040\",\"type\":\"CDSView\"}},\"id\":\"1039\",\"type\":\"GlyphRenderer\"},{\"attributes\":{},\"id\":\"1046\",\"type\":\"UnionRenderers\"},{\"attributes\":{\"dimension\":1,\"ticker\":{\"id\":\"1026\",\"type\":\"BasicTicker\"}},\"id\":\"1029\",\"type\":\"Grid\"},{\"attributes\":{},\"id\":\"1042\",\"type\":\"BasicTickFormatter\"},{\"attributes\":{\"callback\":null,\"tooltips\":[[\"Name\",\"@name\"]]},\"id\":\"1004\",\"type\":\"HoverTool\"},{\"attributes\":{\"source\":{\"id\":\"1003\",\"type\":\"ColumnDataSource\"}},\"id\":\"1040\",\"type\":\"CDSView\"},{\"attributes\":{},\"id\":\"1005\",\"type\":\"ResetTool\"},{\"attributes\":{},\"id\":\"1006\",\"type\":\"PanTool\"},{\"attributes\":{\"ticker\":{\"id\":\"1021\",\"type\":\"BasicTicker\"}},\"id\":\"1024\",\"type\":\"Grid\"},{\"attributes\":{},\"id\":\"1008\",\"type\":\"SaveTool\"}],\"root_ids\":[\"1009\"]},\"title\":\"Bokeh Application\",\"version\":\"1.3.4\"}};\n",
       "  var render_items = [{\"docid\":\"ba26256f-7d55-47aa-a6ae-0b8aed86b096\",\"notebook_comms_target\":\"1048\",\"roots\":{\"1009\":\"1132639a-6a19-4535-9e9b-48653d26b987\"}}];\n",
       "  root.Bokeh.embed.embed_items_notebook(docs_json, render_items);\n",
       "\n",
       "  }\n",
       "  if (root.Bokeh !== undefined) {\n",
       "    embed_document(root);\n",
       "  } else {\n",
       "    var attempts = 0;\n",
       "    var timer = setInterval(function(root) {\n",
       "      if (root.Bokeh !== undefined) {\n",
       "        embed_document(root);\n",
       "        clearInterval(timer);\n",
       "      }\n",
       "      attempts++;\n",
       "      if (attempts > 100) {\n",
       "        console.log(\"Bokeh: ERROR: Unable to run BokehJS code because BokehJS library is missing\");\n",
       "        clearInterval(timer);\n",
       "      }\n",
       "    }, 10, root)\n",
       "  }\n",
       "})(window);"
      ],
      "application/vnd.bokehjs_exec.v0+json": ""
     },
     "metadata": {
      "application/vnd.bokehjs_exec.v0+json": {
       "id": "1009"
      }
     },
     "output_type": "display_data"
    },
    {
     "data": {
      "text/html": [
       "<p><code>&lt;Bokeh Notebook handle for <strong>In[14]</strong>&gt;</code></p>"
      ],
      "text/plain": [
       "<bokeh.io.notebook.CommsHandle at 0x7f315b50b9d0>"
      ]
     },
     "execution_count": 14,
     "metadata": {},
     "output_type": "execute_result"
    }
   ],
   "source": [
    "l = []\n",
    "for i, e in enumerate(movies):\n",
    "    # First of all the vector:\n",
    "    aux_id = e[0]\n",
    "    aux = np.where(moviesID == aux_id)\n",
    "    x_e = X[:,aux].reshape(M,1) # This is the vector of movies\n",
    "    \n",
    "    # Projection of score to eigenvectors:\n",
    "    x_v = np.dot(np.transpose(PC5),x_e) # first 2 components coordinates are projection :)\n",
    "    x_v = x_v[0:5].reshape(1,5)\n",
    "    \n",
    "    l.append([float(x_v[0,0]),float(x_v[0,1]),e[1],int(km2.predict(x_v))]) # (x_1,x_2,title,category)\n",
    "\n",
    "    \n",
    "    \n",
    "data = l\n",
    "source = ColumnDataSource(\n",
    "    data={\n",
    "        \"x\": [x[0] for x in data],\n",
    "        \"y\": [x[1] for x in data],\n",
    "        \"name\": [x[2] for x in data],\n",
    "        \"color\": [Dark2_8[x[3]] for x in data],\n",
    "    })\n",
    "\n",
    "hover = HoverTool(\n",
    "    tooltips=[\n",
    "        (\"Name\", \"@name\"),\n",
    "    ])\n",
    "tools = [hover, ResetTool(), PanTool(), WheelZoomTool(), SaveTool()]\n",
    "\n",
    "p = figure(plot_width=960, plot_height=360, tools=tools, title=\"K = 2\", x_axis_label = \"PC1\", y_axis_label = \"PC2\")\n",
    "p.circle(\"x\", \"y\", source=source, size=20, color=\"color\", alpha=0.5)\n",
    "show(p, notebook_handle=True)"
   ]
  },
  {
   "cell_type": "code",
   "execution_count": 15,
   "metadata": {
    "scrolled": true
   },
   "outputs": [
    {
     "data": {
      "text/html": [
       "\n",
       "\n",
       "\n",
       "\n",
       "\n",
       "\n",
       "  <div class=\"bk-root\" id=\"6e4fb633-b362-4024-b091-62186ea98800\" data-root-id=\"1097\"></div>\n"
      ]
     },
     "metadata": {},
     "output_type": "display_data"
    },
    {
     "data": {
      "application/javascript": [
       "(function(root) {\n",
       "  function embed_document(root) {\n",
       "    \n",
       "  var docs_json = {\"7f42b8b3-d8dd-4d28-b80b-39f3d2af7b5c\":{\"roots\":{\"references\":[{\"attributes\":{\"below\":[{\"id\":\"1108\",\"type\":\"LinearAxis\"}],\"center\":[{\"id\":\"1112\",\"type\":\"Grid\"},{\"id\":\"1117\",\"type\":\"Grid\"}],\"left\":[{\"id\":\"1113\",\"type\":\"LinearAxis\"}],\"plot_height\":360,\"plot_width\":960,\"renderers\":[{\"id\":\"1127\",\"type\":\"GlyphRenderer\"}],\"title\":{\"id\":\"1098\",\"type\":\"Title\"},\"toolbar\":{\"id\":\"1118\",\"type\":\"Toolbar\"},\"x_range\":{\"id\":\"1100\",\"type\":\"DataRange1d\"},\"x_scale\":{\"id\":\"1104\",\"type\":\"LinearScale\"},\"y_range\":{\"id\":\"1102\",\"type\":\"DataRange1d\"},\"y_scale\":{\"id\":\"1106\",\"type\":\"LinearScale\"}},\"id\":\"1097\",\"subtype\":\"Figure\",\"type\":\"Plot\"},{\"attributes\":{},\"id\":\"1142\",\"type\":\"Selection\"},{\"attributes\":{},\"id\":\"1094\",\"type\":\"PanTool\"},{\"attributes\":{\"fill_alpha\":{\"value\":0.5},\"fill_color\":{\"field\":\"color\"},\"line_alpha\":{\"value\":0.5},\"line_color\":{\"field\":\"color\"},\"size\":{\"units\":\"screen\",\"value\":20},\"x\":{\"field\":\"x\"},\"y\":{\"field\":\"y\"}},\"id\":\"1125\",\"type\":\"Circle\"},{\"attributes\":{\"active_drag\":\"auto\",\"active_inspect\":\"auto\",\"active_multi\":null,\"active_scroll\":\"auto\",\"active_tap\":\"auto\",\"tools\":[{\"id\":\"1092\",\"type\":\"HoverTool\"},{\"id\":\"1093\",\"type\":\"ResetTool\"},{\"id\":\"1094\",\"type\":\"PanTool\"},{\"id\":\"1095\",\"type\":\"WheelZoomTool\"},{\"id\":\"1096\",\"type\":\"SaveTool\"}]},\"id\":\"1118\",\"type\":\"Toolbar\"},{\"attributes\":{},\"id\":\"1095\",\"type\":\"WheelZoomTool\"},{\"attributes\":{},\"id\":\"1137\",\"type\":\"BasicTickFormatter\"},{\"attributes\":{\"data_source\":{\"id\":\"1091\",\"type\":\"ColumnDataSource\"},\"glyph\":{\"id\":\"1125\",\"type\":\"Circle\"},\"hover_glyph\":null,\"muted_glyph\":null,\"nonselection_glyph\":{\"id\":\"1126\",\"type\":\"Circle\"},\"selection_glyph\":null,\"view\":{\"id\":\"1128\",\"type\":\"CDSView\"}},\"id\":\"1127\",\"type\":\"GlyphRenderer\"},{\"attributes\":{},\"id\":\"1096\",\"type\":\"SaveTool\"},{\"attributes\":{},\"id\":\"1139\",\"type\":\"BasicTickFormatter\"},{\"attributes\":{\"callback\":null,\"data\":{\"color\":[\"#d95f02\",\"#d95f02\",\"#1b9e77\",\"#1b9e77\",\"#1b9e77\",\"#1b9e77\",\"#1b9e77\",\"#d95f02\",\"#d95f02\",\"#1b9e77\",\"#1b9e77\",\"#1b9e77\",\"#1b9e77\",\"#d95f02\",\"#1b9e77\",\"#d95f02\",\"#1b9e77\",\"#1b9e77\",\"#d95f02\",\"#1b9e77\",\"#1b9e77\",\"#d95f02\",\"#d95f02\",\"#1b9e77\",\"#1b9e77\",\"#1b9e77\",\"#1b9e77\",\"#1b9e77\",\"#1b9e77\",\"#1b9e77\",\"#1b9e77\",\"#1b9e77\",\"#1b9e77\",\"#1b9e77\",\"#1b9e77\",\"#1b9e77\",\"#d95f02\"],\"name\":[\"Independence Day (a.k.a. ID4) (1996)\",\"Spider-Man (2002)\",\"Matrix, The (1999)\",\"Shawshank Redemption, The (1994)\",\"American History X (1998)\",\"Wild Strawberries (Smultronst\\u00e4llet) (1957)\",\"Control (2007)\",\"Miss Congeniality 2: Armed and Fabulous (2005)\",\"Just My Luck (2006)\",\"Santa Sangre (1989)\",\"Videodrome (1983)\",\"Billy Elliot (2000)\",\"Pride (2014)\",\"Jurassic Park (1993)\",\"Star Wars: Episode IV - A New Hope (1977)\",\"Princess Diaries, The (2001)\",\"Schindler's List (1993)\",\"Fight Club (1999)\",\"New York Ripper, The (Squartatore di New York, Lo) (1982)\",\"American Beauty (1999)\",\"City of God (Cidade de Deus) (2002)\",\"Battleship (2012)\",\"Take Care of My Cat (Goyangileul butaghae) (2001)\",\"Terminator, The (1984)\",\"Edge of Tomorrow (2014)\",\"Forrest Gump (1994)\",\"King's Speech, The (2010)\",\"Life Is Beautiful (La Vita \\u00e8 bella) (1997)\",\"Stage Fright (Deliria) (1987)\",\"Ichi the Killer (Koroshiya 1) (2001)\",\"Brazil (1985)\",\"Fountain, The (2006)\",\"Accused, The (1988)\",\"Time to Kill, A (1996)\",\"Ghost Writer, The (2010)\",\"Superbad (2007)\",\"American Pie (1999)\"],\"x\":[-2.228539981802325,-1.3438247817924525,-3.6017260400157682,-1.3196544880176764,1.209959524758671,-2.6128198665807543,-1.2698813924967267,-0.021155428956489707,0.076200551999906,-1.935440292273278,-1.2677962119198554,-0.6661979997639933,0.33624501629403225,-2.6111913601586147,-3.6915894682291794,0.09088626460269558,-0.21364359883710182,-1.0114673905750127,0.4424416591746248,-0.832302320199131,-0.26899869877183863,-2.1111077438318637,-1.3554881335946214,-2.1608214731722866,-2.3773161365518707,-1.5163397192165875,0.04100516196328357,-1.532532499724129,-0.05868593248634336,0.06551610945066509,-3.6645601105290613,-4.274082500964725,2.390825830516976,1.9237821163122086,1.175482697246432,0.6608958399635299,0.9483018547443578],\"y\":[0.8860158576686551,2.576801298009149,1.4712334239230012,2.190056480257307,2.2167984589591216,1.9536949345034509,2.465293894133059,1.6212590484071134,1.6083273796733304,1.5488220951127198,1.2152484801939754,2.358865637350164,2.090715403012654,1.1696859909907753,1.9913382995395679,2.239414964563366,0.9503139405820206,3.0344275696326246,1.0079969101275728,3.6782490455317465,2.9025456034064425,0.7233445692107235,0.7370561417475401,1.5253774707419905,1.1021572873594927,2.888575139407237,0.963376947552302,2.155034342594615,2.3930286766511704,2.259461603057956,1.6256133084298203,1.0098985568387424,0.9508969410694635,0.28326908395050165,-0.8514339900986774,4.9016667176825965,4.674231180954432]},\"selected\":{\"id\":\"1142\",\"type\":\"Selection\"},\"selection_policy\":{\"id\":\"1141\",\"type\":\"UnionRenderers\"}},\"id\":\"1091\",\"type\":\"ColumnDataSource\"},{\"attributes\":{},\"id\":\"1141\",\"type\":\"UnionRenderers\"},{\"attributes\":{\"text\":\"K = 2\"},\"id\":\"1098\",\"type\":\"Title\"},{\"attributes\":{\"callback\":null},\"id\":\"1100\",\"type\":\"DataRange1d\"},{\"attributes\":{\"callback\":null,\"tooltips\":[[\"Name\",\"@name\"]]},\"id\":\"1092\",\"type\":\"HoverTool\"},{\"attributes\":{\"fill_alpha\":{\"value\":0.1},\"fill_color\":{\"value\":\"#1f77b4\"},\"line_alpha\":{\"value\":0.1},\"line_color\":{\"value\":\"#1f77b4\"},\"size\":{\"units\":\"screen\",\"value\":20},\"x\":{\"field\":\"x\"},\"y\":{\"field\":\"y\"}},\"id\":\"1126\",\"type\":\"Circle\"},{\"attributes\":{},\"id\":\"1104\",\"type\":\"LinearScale\"},{\"attributes\":{\"callback\":null},\"id\":\"1102\",\"type\":\"DataRange1d\"},{\"attributes\":{},\"id\":\"1106\",\"type\":\"LinearScale\"},{\"attributes\":{\"axis_label\":\"PC4\",\"formatter\":{\"id\":\"1137\",\"type\":\"BasicTickFormatter\"},\"ticker\":{\"id\":\"1109\",\"type\":\"BasicTicker\"}},\"id\":\"1108\",\"type\":\"LinearAxis\"},{\"attributes\":{\"dimension\":1,\"ticker\":{\"id\":\"1114\",\"type\":\"BasicTicker\"}},\"id\":\"1117\",\"type\":\"Grid\"},{\"attributes\":{},\"id\":\"1109\",\"type\":\"BasicTicker\"},{\"attributes\":{\"ticker\":{\"id\":\"1109\",\"type\":\"BasicTicker\"}},\"id\":\"1112\",\"type\":\"Grid\"},{\"attributes\":{\"source\":{\"id\":\"1091\",\"type\":\"ColumnDataSource\"}},\"id\":\"1128\",\"type\":\"CDSView\"},{\"attributes\":{},\"id\":\"1114\",\"type\":\"BasicTicker\"},{\"attributes\":{},\"id\":\"1093\",\"type\":\"ResetTool\"},{\"attributes\":{\"axis_label\":\"PC5\",\"formatter\":{\"id\":\"1139\",\"type\":\"BasicTickFormatter\"},\"ticker\":{\"id\":\"1114\",\"type\":\"BasicTicker\"}},\"id\":\"1113\",\"type\":\"LinearAxis\"}],\"root_ids\":[\"1097\"]},\"title\":\"Bokeh Application\",\"version\":\"1.3.4\"}};\n",
       "  var render_items = [{\"docid\":\"7f42b8b3-d8dd-4d28-b80b-39f3d2af7b5c\",\"notebook_comms_target\":\"1143\",\"roots\":{\"1097\":\"6e4fb633-b362-4024-b091-62186ea98800\"}}];\n",
       "  root.Bokeh.embed.embed_items_notebook(docs_json, render_items);\n",
       "\n",
       "  }\n",
       "  if (root.Bokeh !== undefined) {\n",
       "    embed_document(root);\n",
       "  } else {\n",
       "    var attempts = 0;\n",
       "    var timer = setInterval(function(root) {\n",
       "      if (root.Bokeh !== undefined) {\n",
       "        embed_document(root);\n",
       "        clearInterval(timer);\n",
       "      }\n",
       "      attempts++;\n",
       "      if (attempts > 100) {\n",
       "        console.log(\"Bokeh: ERROR: Unable to run BokehJS code because BokehJS library is missing\");\n",
       "        clearInterval(timer);\n",
       "      }\n",
       "    }, 10, root)\n",
       "  }\n",
       "})(window);"
      ],
      "application/vnd.bokehjs_exec.v0+json": ""
     },
     "metadata": {
      "application/vnd.bokehjs_exec.v0+json": {
       "id": "1097"
      }
     },
     "output_type": "display_data"
    },
    {
     "data": {
      "text/html": [
       "<p><code>&lt;Bokeh Notebook handle for <strong>In[15]</strong>&gt;</code></p>"
      ],
      "text/plain": [
       "<bokeh.io.notebook.CommsHandle at 0x7f315b512b50>"
      ]
     },
     "execution_count": 15,
     "metadata": {},
     "output_type": "execute_result"
    }
   ],
   "source": [
    "l = []\n",
    "for i, e in enumerate(movies):\n",
    "    # First of all the vector:\n",
    "    aux_id = e[0]\n",
    "    aux = np.where(moviesID == aux_id)\n",
    "    x_e = X[:,aux].reshape(M,1) # This is the vector of movies\n",
    "    \n",
    "    # Projection of score to eigenvectors:\n",
    "    x_v = np.dot(np.transpose(PC5),x_e) # first 2 components coordinates are projection :)\n",
    "    x_v = x_v[0:5].reshape(1,5)\n",
    "    \n",
    "    l.append([float(x_v[0,3]),float(x_v[0,4]),e[1],int(km2.predict(x_v))]) # (x_1,x_2,title,category)\n",
    "\n",
    "    \n",
    "    \n",
    "data = l\n",
    "source = ColumnDataSource(\n",
    "    data={\n",
    "        \"x\": [x[0] for x in data],\n",
    "        \"y\": [x[1] for x in data],\n",
    "        \"name\": [x[2] for x in data],\n",
    "        \"color\": [Dark2_8[x[3]] for x in data],\n",
    "    })\n",
    "\n",
    "hover = HoverTool(\n",
    "    tooltips=[\n",
    "        (\"Name\", \"@name\"),\n",
    "    ])\n",
    "tools = [hover, ResetTool(), PanTool(), WheelZoomTool(), SaveTool()]\n",
    "\n",
    "p = figure(plot_width=960, plot_height=360, tools=tools, title=\"K = 2\", x_axis_label = \"PC4\", y_axis_label = \"PC5\")\n",
    "p.circle(\"x\", \"y\", source=source, size=20, color=\"color\", alpha=0.5)\n",
    "show(p, notebook_handle=True)"
   ]
  },
  {
   "cell_type": "markdown",
   "metadata": {},
   "source": [
    "**Which principal components separate best?**\n",
    "\n",
    "In the first graph the visualization is using the first 2 components, which clearly help us best than in this extreme case the last 2. This was expected since the highest components caputre more variance and therefore it is easier to separate classes using them. From now on we will keep using the first 2 components!"
   ]
  },
  {
   "cell_type": "markdown",
   "metadata": {},
   "source": [
    "### K = 3"
   ]
  },
  {
   "cell_type": "code",
   "execution_count": 16,
   "metadata": {},
   "outputs": [
    {
     "data": {
      "text/html": [
       "\n",
       "\n",
       "\n",
       "\n",
       "\n",
       "\n",
       "  <div class=\"bk-root\" id=\"85c1a24b-ef4e-4f17-92d9-3bfc981c47aa\" data-root-id=\"1192\"></div>\n"
      ]
     },
     "metadata": {},
     "output_type": "display_data"
    },
    {
     "data": {
      "application/javascript": [
       "(function(root) {\n",
       "  function embed_document(root) {\n",
       "    \n",
       "  var docs_json = {\"bbdc09e5-60fa-455a-ad12-6856feb690b4\":{\"roots\":{\"references\":[{\"attributes\":{\"below\":[{\"id\":\"1203\",\"type\":\"LinearAxis\"}],\"center\":[{\"id\":\"1207\",\"type\":\"Grid\"},{\"id\":\"1212\",\"type\":\"Grid\"}],\"left\":[{\"id\":\"1208\",\"type\":\"LinearAxis\"}],\"plot_height\":360,\"plot_width\":960,\"renderers\":[{\"id\":\"1222\",\"type\":\"GlyphRenderer\"}],\"title\":{\"id\":\"1193\",\"type\":\"Title\"},\"toolbar\":{\"id\":\"1213\",\"type\":\"Toolbar\"},\"x_range\":{\"id\":\"1195\",\"type\":\"DataRange1d\"},\"x_scale\":{\"id\":\"1199\",\"type\":\"LinearScale\"},\"y_range\":{\"id\":\"1197\",\"type\":\"DataRange1d\"},\"y_scale\":{\"id\":\"1201\",\"type\":\"LinearScale\"}},\"id\":\"1192\",\"subtype\":\"Figure\",\"type\":\"Plot\"},{\"attributes\":{},\"id\":\"1191\",\"type\":\"SaveTool\"},{\"attributes\":{},\"id\":\"1244\",\"type\":\"Selection\"},{\"attributes\":{\"source\":{\"id\":\"1186\",\"type\":\"ColumnDataSource\"}},\"id\":\"1223\",\"type\":\"CDSView\"},{\"attributes\":{},\"id\":\"1241\",\"type\":\"BasicTickFormatter\"},{\"attributes\":{\"text\":\"K = 2\"},\"id\":\"1193\",\"type\":\"Title\"},{\"attributes\":{\"callback\":null},\"id\":\"1195\",\"type\":\"DataRange1d\"},{\"attributes\":{\"fill_alpha\":{\"value\":0.1},\"fill_color\":{\"value\":\"#1f77b4\"},\"line_alpha\":{\"value\":0.1},\"line_color\":{\"value\":\"#1f77b4\"},\"size\":{\"units\":\"screen\",\"value\":20},\"x\":{\"field\":\"x\"},\"y\":{\"field\":\"y\"}},\"id\":\"1221\",\"type\":\"Circle\"},{\"attributes\":{},\"id\":\"1199\",\"type\":\"LinearScale\"},{\"attributes\":{\"callback\":null},\"id\":\"1197\",\"type\":\"DataRange1d\"},{\"attributes\":{},\"id\":\"1201\",\"type\":\"LinearScale\"},{\"attributes\":{\"axis_label\":\"PC1\",\"formatter\":{\"id\":\"1239\",\"type\":\"BasicTickFormatter\"},\"ticker\":{\"id\":\"1204\",\"type\":\"BasicTicker\"}},\"id\":\"1203\",\"type\":\"LinearAxis\"},{\"attributes\":{\"dimension\":1,\"ticker\":{\"id\":\"1209\",\"type\":\"BasicTicker\"}},\"id\":\"1212\",\"type\":\"Grid\"},{\"attributes\":{},\"id\":\"1204\",\"type\":\"BasicTicker\"},{\"attributes\":{\"ticker\":{\"id\":\"1204\",\"type\":\"BasicTicker\"}},\"id\":\"1207\",\"type\":\"Grid\"},{\"attributes\":{\"data_source\":{\"id\":\"1186\",\"type\":\"ColumnDataSource\"},\"glyph\":{\"id\":\"1220\",\"type\":\"Circle\"},\"hover_glyph\":null,\"muted_glyph\":null,\"nonselection_glyph\":{\"id\":\"1221\",\"type\":\"Circle\"},\"selection_glyph\":null,\"view\":{\"id\":\"1223\",\"type\":\"CDSView\"}},\"id\":\"1222\",\"type\":\"GlyphRenderer\"},{\"attributes\":{\"fill_alpha\":{\"value\":0.5},\"fill_color\":{\"field\":\"color\"},\"line_alpha\":{\"value\":0.5},\"line_color\":{\"field\":\"color\"},\"size\":{\"units\":\"screen\",\"value\":20},\"x\":{\"field\":\"x\"},\"y\":{\"field\":\"y\"}},\"id\":\"1220\",\"type\":\"Circle\"},{\"attributes\":{},\"id\":\"1209\",\"type\":\"BasicTicker\"},{\"attributes\":{\"axis_label\":\"PC2\",\"formatter\":{\"id\":\"1241\",\"type\":\"BasicTickFormatter\"},\"ticker\":{\"id\":\"1209\",\"type\":\"BasicTicker\"}},\"id\":\"1208\",\"type\":\"LinearAxis\"},{\"attributes\":{\"callback\":null,\"data\":{\"color\":[\"#7570b3\",\"#7570b3\",\"#d95f02\",\"#d95f02\",\"#d95f02\",\"#d95f02\",\"#d95f02\",\"#7570b3\",\"#7570b3\",\"#1b9e77\",\"#1b9e77\",\"#d95f02\",\"#d95f02\",\"#d95f02\",\"#d95f02\",\"#7570b3\",\"#d95f02\",\"#d95f02\",\"#7570b3\",\"#d95f02\",\"#d95f02\",\"#7570b3\",\"#1b9e77\",\"#d95f02\",\"#d95f02\",\"#d95f02\",\"#d95f02\",\"#d95f02\",\"#d95f02\",\"#1b9e77\",\"#d95f02\",\"#d95f02\",\"#d95f02\",\"#d95f02\",\"#d95f02\",\"#d95f02\",\"#7570b3\"],\"name\":[\"Independence Day (a.k.a. ID4) (1996)\",\"Spider-Man (2002)\",\"Matrix, The (1999)\",\"Shawshank Redemption, The (1994)\",\"American History X (1998)\",\"Wild Strawberries (Smultronst\\u00e4llet) (1957)\",\"Control (2007)\",\"Miss Congeniality 2: Armed and Fabulous (2005)\",\"Just My Luck (2006)\",\"Santa Sangre (1989)\",\"Videodrome (1983)\",\"Billy Elliot (2000)\",\"Pride (2014)\",\"Jurassic Park (1993)\",\"Star Wars: Episode IV - A New Hope (1977)\",\"Princess Diaries, The (2001)\",\"Schindler's List (1993)\",\"Fight Club (1999)\",\"New York Ripper, The (Squartatore di New York, Lo) (1982)\",\"American Beauty (1999)\",\"City of God (Cidade de Deus) (2002)\",\"Battleship (2012)\",\"Take Care of My Cat (Goyangileul butaghae) (2001)\",\"Terminator, The (1984)\",\"Edge of Tomorrow (2014)\",\"Forrest Gump (1994)\",\"King's Speech, The (2010)\",\"Life Is Beautiful (La Vita \\u00e8 bella) (1997)\",\"Stage Fright (Deliria) (1987)\",\"Ichi the Killer (Koroshiya 1) (2001)\",\"Brazil (1985)\",\"Fountain, The (2006)\",\"Accused, The (1988)\",\"Time to Kill, A (1996)\",\"Ghost Writer, The (2010)\",\"Superbad (2007)\",\"American Pie (1999)\"],\"x\":[1.9563192464706576,2.423473011939731,6.1669229949762885,8.263266304963055,8.407282228254966,7.4675852350725,7.309527270150396,0.27638073270278973,0.09133591026512591,5.478011932785142,4.33573841598389,5.112584895129653,5.350205221235805,3.4670611846015564,5.283249654357828,0.7511985315999703,8.01286285082763,8.448732889671694,2.628179377648641,8.594701228394436,8.862855699951107,0.07895014805737957,2.558724956197571,4.887597829601457,4.356287831804954,6.080402888934177,6.351129429131258,6.608352902835764,4.417500015444918,4.314339943618693,6.342243226893636,5.7834002844838945,5.784931428017216,3.7555094955835977,5.4392321326182325,3.691139544110921,2.212503735032812],\"y\":[-7.004651322298648,-6.568361706153165,-8.288756869341004,-5.846979358682063,-4.8791047963082255,-1.096127281170239,-1.8150512541562502,-2.2894303250116406,-1.8303448652081353,-1.860157087282964,-1.8528059086619635,-2.220114087389764,-1.8469216704740545,-7.283029689024392,-7.576582963071945,-2.300994940111539,-4.795991450586846,-5.661292452125193,-2.9951092439009486,-3.1185938681355045,-4.322910455168616,-4.951407849275805,0.21770525613205752,-7.444349465494808,-7.0766292577588095,-5.029462539700721,-3.740124508583709,-3.5359042615520346,-2.8265967275157395,-2.541359361363761,-3.2403711678747125,-2.8005467589011497,-3.482605027518492,-3.8082300471480064,-3.722982094802201,-2.7906872889413767,-3.6432593003081357]},\"selected\":{\"id\":\"1244\",\"type\":\"Selection\"},\"selection_policy\":{\"id\":\"1243\",\"type\":\"UnionRenderers\"}},\"id\":\"1186\",\"type\":\"ColumnDataSource\"},{\"attributes\":{\"callback\":null,\"tooltips\":[[\"Name\",\"@name\"]]},\"id\":\"1187\",\"type\":\"HoverTool\"},{\"attributes\":{},\"id\":\"1190\",\"type\":\"WheelZoomTool\"},{\"attributes\":{},\"id\":\"1188\",\"type\":\"ResetTool\"},{\"attributes\":{\"active_drag\":\"auto\",\"active_inspect\":\"auto\",\"active_multi\":null,\"active_scroll\":\"auto\",\"active_tap\":\"auto\",\"tools\":[{\"id\":\"1187\",\"type\":\"HoverTool\"},{\"id\":\"1188\",\"type\":\"ResetTool\"},{\"id\":\"1189\",\"type\":\"PanTool\"},{\"id\":\"1190\",\"type\":\"WheelZoomTool\"},{\"id\":\"1191\",\"type\":\"SaveTool\"}]},\"id\":\"1213\",\"type\":\"Toolbar\"},{\"attributes\":{},\"id\":\"1189\",\"type\":\"PanTool\"},{\"attributes\":{},\"id\":\"1239\",\"type\":\"BasicTickFormatter\"},{\"attributes\":{},\"id\":\"1243\",\"type\":\"UnionRenderers\"}],\"root_ids\":[\"1192\"]},\"title\":\"Bokeh Application\",\"version\":\"1.3.4\"}};\n",
       "  var render_items = [{\"docid\":\"bbdc09e5-60fa-455a-ad12-6856feb690b4\",\"notebook_comms_target\":\"1245\",\"roots\":{\"1192\":\"85c1a24b-ef4e-4f17-92d9-3bfc981c47aa\"}}];\n",
       "  root.Bokeh.embed.embed_items_notebook(docs_json, render_items);\n",
       "\n",
       "  }\n",
       "  if (root.Bokeh !== undefined) {\n",
       "    embed_document(root);\n",
       "  } else {\n",
       "    var attempts = 0;\n",
       "    var timer = setInterval(function(root) {\n",
       "      if (root.Bokeh !== undefined) {\n",
       "        embed_document(root);\n",
       "        clearInterval(timer);\n",
       "      }\n",
       "      attempts++;\n",
       "      if (attempts > 100) {\n",
       "        console.log(\"Bokeh: ERROR: Unable to run BokehJS code because BokehJS library is missing\");\n",
       "        clearInterval(timer);\n",
       "      }\n",
       "    }, 10, root)\n",
       "  }\n",
       "})(window);"
      ],
      "application/vnd.bokehjs_exec.v0+json": ""
     },
     "metadata": {
      "application/vnd.bokehjs_exec.v0+json": {
       "id": "1192"
      }
     },
     "output_type": "display_data"
    },
    {
     "data": {
      "text/html": [
       "<p><code>&lt;Bokeh Notebook handle for <strong>In[16]</strong>&gt;</code></p>"
      ],
      "text/plain": [
       "<bokeh.io.notebook.CommsHandle at 0x7f3167a8dd10>"
      ]
     },
     "execution_count": 16,
     "metadata": {},
     "output_type": "execute_result"
    }
   ],
   "source": [
    "l = []\n",
    "for i, e in enumerate(movies):\n",
    "    # First of all the vector:\n",
    "    aux_id = e[0]\n",
    "    aux = np.where(moviesID == aux_id)\n",
    "    x_e = X[:,aux].reshape(M,1) # This is the vector of movies\n",
    "    \n",
    "    # Projection of score to eigenvectors:\n",
    "    x_v = np.dot(np.transpose(PC5),x_e) # first 2 components coordinates are projection :)\n",
    "    x_v = x_v[0:5].reshape(1,5)\n",
    "    \n",
    "    l.append([float(x_v[0,0]),float(x_v[0,1]),e[1],int(km3.predict(x_v))]) # (x_1,x_2,title,category)\n",
    "\n",
    "    \n",
    "    \n",
    "data = l\n",
    "source = ColumnDataSource(\n",
    "    data={\n",
    "        \"x\": [x[0] for x in data],\n",
    "        \"y\": [x[1] for x in data],\n",
    "        \"name\": [x[2] for x in data],\n",
    "        \"color\": [Dark2_8[x[3]] for x in data],\n",
    "    })\n",
    "\n",
    "hover = HoverTool(\n",
    "    tooltips=[\n",
    "        (\"Name\", \"@name\"),\n",
    "    ])\n",
    "tools = [hover, ResetTool(), PanTool(), WheelZoomTool(), SaveTool()]\n",
    "\n",
    "p = figure(plot_width=960, plot_height=360, tools=tools, title=\"K = 2\", x_axis_label = \"PC1\", y_axis_label = \"PC2\")\n",
    "p.circle(\"x\", \"y\", source=source, size=20, color=\"color\", alpha=0.5)\n",
    "show(p, notebook_handle=True)"
   ]
  },
  {
   "cell_type": "markdown",
   "metadata": {},
   "source": [
    "### K = 4"
   ]
  },
  {
   "cell_type": "code",
   "execution_count": 17,
   "metadata": {},
   "outputs": [
    {
     "data": {
      "text/html": [
       "\n",
       "\n",
       "\n",
       "\n",
       "\n",
       "\n",
       "  <div class=\"bk-root\" id=\"459cb34b-65e9-468e-8991-25ed21c3c940\" data-root-id=\"1294\"></div>\n"
      ]
     },
     "metadata": {},
     "output_type": "display_data"
    },
    {
     "data": {
      "application/javascript": [
       "(function(root) {\n",
       "  function embed_document(root) {\n",
       "    \n",
       "  var docs_json = {\"78eced15-d193-4d65-b141-d555372f22e3\":{\"roots\":{\"references\":[{\"attributes\":{\"below\":[{\"id\":\"1305\",\"type\":\"LinearAxis\"}],\"center\":[{\"id\":\"1309\",\"type\":\"Grid\"},{\"id\":\"1314\",\"type\":\"Grid\"}],\"left\":[{\"id\":\"1310\",\"type\":\"LinearAxis\"}],\"plot_height\":360,\"plot_width\":960,\"renderers\":[{\"id\":\"1324\",\"type\":\"GlyphRenderer\"}],\"title\":{\"id\":\"1295\",\"type\":\"Title\"},\"toolbar\":{\"id\":\"1315\",\"type\":\"Toolbar\"},\"x_range\":{\"id\":\"1297\",\"type\":\"DataRange1d\"},\"x_scale\":{\"id\":\"1301\",\"type\":\"LinearScale\"},\"y_range\":{\"id\":\"1299\",\"type\":\"DataRange1d\"},\"y_scale\":{\"id\":\"1303\",\"type\":\"LinearScale\"}},\"id\":\"1294\",\"subtype\":\"Figure\",\"type\":\"Plot\"},{\"attributes\":{},\"id\":\"1301\",\"type\":\"LinearScale\"},{\"attributes\":{\"callback\":null},\"id\":\"1299\",\"type\":\"DataRange1d\"},{\"attributes\":{},\"id\":\"1303\",\"type\":\"LinearScale\"},{\"attributes\":{\"axis_label\":\"PC1\",\"formatter\":{\"id\":\"1348\",\"type\":\"BasicTickFormatter\"},\"ticker\":{\"id\":\"1306\",\"type\":\"BasicTicker\"}},\"id\":\"1305\",\"type\":\"LinearAxis\"},{\"attributes\":{\"dimension\":1,\"ticker\":{\"id\":\"1311\",\"type\":\"BasicTicker\"}},\"id\":\"1314\",\"type\":\"Grid\"},{\"attributes\":{},\"id\":\"1306\",\"type\":\"BasicTicker\"},{\"attributes\":{\"ticker\":{\"id\":\"1306\",\"type\":\"BasicTicker\"}},\"id\":\"1309\",\"type\":\"Grid\"},{\"attributes\":{\"callback\":null,\"data\":{\"color\":[\"#d95f02\",\"#d95f02\",\"#7570b3\",\"#7570b3\",\"#7570b3\",\"#7570b3\",\"#7570b3\",\"#1b9e77\",\"#1b9e77\",\"#e7298a\",\"#e7298a\",\"#7570b3\",\"#7570b3\",\"#d95f02\",\"#7570b3\",\"#1b9e77\",\"#7570b3\",\"#7570b3\",\"#d95f02\",\"#7570b3\",\"#7570b3\",\"#d95f02\",\"#e7298a\",\"#7570b3\",\"#7570b3\",\"#7570b3\",\"#7570b3\",\"#7570b3\",\"#e7298a\",\"#e7298a\",\"#7570b3\",\"#e7298a\",\"#7570b3\",\"#7570b3\",\"#7570b3\",\"#7570b3\",\"#1b9e77\"],\"name\":[\"Independence Day (a.k.a. ID4) (1996)\",\"Spider-Man (2002)\",\"Matrix, The (1999)\",\"Shawshank Redemption, The (1994)\",\"American History X (1998)\",\"Wild Strawberries (Smultronst\\u00e4llet) (1957)\",\"Control (2007)\",\"Miss Congeniality 2: Armed and Fabulous (2005)\",\"Just My Luck (2006)\",\"Santa Sangre (1989)\",\"Videodrome (1983)\",\"Billy Elliot (2000)\",\"Pride (2014)\",\"Jurassic Park (1993)\",\"Star Wars: Episode IV - A New Hope (1977)\",\"Princess Diaries, The (2001)\",\"Schindler's List (1993)\",\"Fight Club (1999)\",\"New York Ripper, The (Squartatore di New York, Lo) (1982)\",\"American Beauty (1999)\",\"City of God (Cidade de Deus) (2002)\",\"Battleship (2012)\",\"Take Care of My Cat (Goyangileul butaghae) (2001)\",\"Terminator, The (1984)\",\"Edge of Tomorrow (2014)\",\"Forrest Gump (1994)\",\"King's Speech, The (2010)\",\"Life Is Beautiful (La Vita \\u00e8 bella) (1997)\",\"Stage Fright (Deliria) (1987)\",\"Ichi the Killer (Koroshiya 1) (2001)\",\"Brazil (1985)\",\"Fountain, The (2006)\",\"Accused, The (1988)\",\"Time to Kill, A (1996)\",\"Ghost Writer, The (2010)\",\"Superbad (2007)\",\"American Pie (1999)\"],\"x\":[1.9563192464706576,2.423473011939731,6.1669229949762885,8.263266304963055,8.407282228254966,7.4675852350725,7.309527270150396,0.27638073270278973,0.09133591026512591,5.478011932785142,4.33573841598389,5.112584895129653,5.350205221235805,3.4670611846015564,5.283249654357828,0.7511985315999703,8.01286285082763,8.448732889671694,2.628179377648641,8.594701228394436,8.862855699951107,0.07895014805737957,2.558724956197571,4.887597829601457,4.356287831804954,6.080402888934177,6.351129429131258,6.608352902835764,4.417500015444918,4.314339943618693,6.342243226893636,5.7834002844838945,5.784931428017216,3.7555094955835977,5.4392321326182325,3.691139544110921,2.212503735032812],\"y\":[-7.004651322298648,-6.568361706153165,-8.288756869341004,-5.846979358682063,-4.8791047963082255,-1.096127281170239,-1.8150512541562502,-2.2894303250116406,-1.8303448652081353,-1.860157087282964,-1.8528059086619635,-2.220114087389764,-1.8469216704740545,-7.283029689024392,-7.576582963071945,-2.300994940111539,-4.795991450586846,-5.661292452125193,-2.9951092439009486,-3.1185938681355045,-4.322910455168616,-4.951407849275805,0.21770525613205752,-7.444349465494808,-7.0766292577588095,-5.029462539700721,-3.740124508583709,-3.5359042615520346,-2.8265967275157395,-2.541359361363761,-3.2403711678747125,-2.8005467589011497,-3.482605027518492,-3.8082300471480064,-3.722982094802201,-2.7906872889413767,-3.6432593003081357]},\"selected\":{\"id\":\"1353\",\"type\":\"Selection\"},\"selection_policy\":{\"id\":\"1352\",\"type\":\"UnionRenderers\"}},\"id\":\"1288\",\"type\":\"ColumnDataSource\"},{\"attributes\":{\"callback\":null,\"tooltips\":[[\"Name\",\"@name\"]]},\"id\":\"1289\",\"type\":\"HoverTool\"},{\"attributes\":{},\"id\":\"1311\",\"type\":\"BasicTicker\"},{\"attributes\":{\"axis_label\":\"PC2\",\"formatter\":{\"id\":\"1350\",\"type\":\"BasicTickFormatter\"},\"ticker\":{\"id\":\"1311\",\"type\":\"BasicTicker\"}},\"id\":\"1310\",\"type\":\"LinearAxis\"},{\"attributes\":{},\"id\":\"1290\",\"type\":\"ResetTool\"},{\"attributes\":{},\"id\":\"1293\",\"type\":\"SaveTool\"},{\"attributes\":{},\"id\":\"1291\",\"type\":\"PanTool\"},{\"attributes\":{},\"id\":\"1292\",\"type\":\"WheelZoomTool\"},{\"attributes\":{},\"id\":\"1348\",\"type\":\"BasicTickFormatter\"},{\"attributes\":{\"active_drag\":\"auto\",\"active_inspect\":\"auto\",\"active_multi\":null,\"active_scroll\":\"auto\",\"active_tap\":\"auto\",\"tools\":[{\"id\":\"1289\",\"type\":\"HoverTool\"},{\"id\":\"1290\",\"type\":\"ResetTool\"},{\"id\":\"1291\",\"type\":\"PanTool\"},{\"id\":\"1292\",\"type\":\"WheelZoomTool\"},{\"id\":\"1293\",\"type\":\"SaveTool\"}]},\"id\":\"1315\",\"type\":\"Toolbar\"},{\"attributes\":{},\"id\":\"1350\",\"type\":\"BasicTickFormatter\"},{\"attributes\":{\"source\":{\"id\":\"1288\",\"type\":\"ColumnDataSource\"}},\"id\":\"1325\",\"type\":\"CDSView\"},{\"attributes\":{\"data_source\":{\"id\":\"1288\",\"type\":\"ColumnDataSource\"},\"glyph\":{\"id\":\"1322\",\"type\":\"Circle\"},\"hover_glyph\":null,\"muted_glyph\":null,\"nonselection_glyph\":{\"id\":\"1323\",\"type\":\"Circle\"},\"selection_glyph\":null,\"view\":{\"id\":\"1325\",\"type\":\"CDSView\"}},\"id\":\"1324\",\"type\":\"GlyphRenderer\"},{\"attributes\":{\"fill_alpha\":{\"value\":0.5},\"fill_color\":{\"field\":\"color\"},\"line_alpha\":{\"value\":0.5},\"line_color\":{\"field\":\"color\"},\"size\":{\"units\":\"screen\",\"value\":20},\"x\":{\"field\":\"x\"},\"y\":{\"field\":\"y\"}},\"id\":\"1322\",\"type\":\"Circle\"},{\"attributes\":{},\"id\":\"1352\",\"type\":\"UnionRenderers\"},{\"attributes\":{},\"id\":\"1353\",\"type\":\"Selection\"},{\"attributes\":{\"text\":\"K = 2\"},\"id\":\"1295\",\"type\":\"Title\"},{\"attributes\":{\"callback\":null},\"id\":\"1297\",\"type\":\"DataRange1d\"},{\"attributes\":{\"fill_alpha\":{\"value\":0.1},\"fill_color\":{\"value\":\"#1f77b4\"},\"line_alpha\":{\"value\":0.1},\"line_color\":{\"value\":\"#1f77b4\"},\"size\":{\"units\":\"screen\",\"value\":20},\"x\":{\"field\":\"x\"},\"y\":{\"field\":\"y\"}},\"id\":\"1323\",\"type\":\"Circle\"}],\"root_ids\":[\"1294\"]},\"title\":\"Bokeh Application\",\"version\":\"1.3.4\"}};\n",
       "  var render_items = [{\"docid\":\"78eced15-d193-4d65-b141-d555372f22e3\",\"notebook_comms_target\":\"1354\",\"roots\":{\"1294\":\"459cb34b-65e9-468e-8991-25ed21c3c940\"}}];\n",
       "  root.Bokeh.embed.embed_items_notebook(docs_json, render_items);\n",
       "\n",
       "  }\n",
       "  if (root.Bokeh !== undefined) {\n",
       "    embed_document(root);\n",
       "  } else {\n",
       "    var attempts = 0;\n",
       "    var timer = setInterval(function(root) {\n",
       "      if (root.Bokeh !== undefined) {\n",
       "        embed_document(root);\n",
       "        clearInterval(timer);\n",
       "      }\n",
       "      attempts++;\n",
       "      if (attempts > 100) {\n",
       "        console.log(\"Bokeh: ERROR: Unable to run BokehJS code because BokehJS library is missing\");\n",
       "        clearInterval(timer);\n",
       "      }\n",
       "    }, 10, root)\n",
       "  }\n",
       "})(window);"
      ],
      "application/vnd.bokehjs_exec.v0+json": ""
     },
     "metadata": {
      "application/vnd.bokehjs_exec.v0+json": {
       "id": "1294"
      }
     },
     "output_type": "display_data"
    },
    {
     "data": {
      "text/html": [
       "<p><code>&lt;Bokeh Notebook handle for <strong>In[17]</strong>&gt;</code></p>"
      ],
      "text/plain": [
       "<bokeh.io.notebook.CommsHandle at 0x7f3167a849d0>"
      ]
     },
     "execution_count": 17,
     "metadata": {},
     "output_type": "execute_result"
    }
   ],
   "source": [
    "l = []\n",
    "for i, e in enumerate(movies):\n",
    "    # First of all the vector:\n",
    "    aux_id = e[0]\n",
    "    aux = np.where(moviesID == aux_id)\n",
    "    x_e = X[:,aux].reshape(M,1) # This is the vector of movies\n",
    "    \n",
    "    # Projection of score to eigenvectors:\n",
    "    x_v = np.dot(np.transpose(PC5),x_e) # first 2 components coordinates are projection :)\n",
    "    x_v = x_v[0:5].reshape(1,5)\n",
    "    \n",
    "    l.append([float(x_v[0,0]),float(x_v[0,1]),e[1],int(km4.predict(x_v))]) # (x_1,x_2,title,category)\n",
    "\n",
    "    \n",
    "    \n",
    "data = l\n",
    "source = ColumnDataSource(\n",
    "    data={\n",
    "        \"x\": [x[0] for x in data],\n",
    "        \"y\": [x[1] for x in data],\n",
    "        \"name\": [x[2] for x in data],\n",
    "        \"color\": [Dark2_8[x[3]] for x in data],\n",
    "    })\n",
    "\n",
    "hover = HoverTool(\n",
    "    tooltips=[\n",
    "        (\"Name\", \"@name\"),\n",
    "    ])\n",
    "tools = [hover, ResetTool(), PanTool(), WheelZoomTool(), SaveTool()]\n",
    "\n",
    "p = figure(plot_width=960, plot_height=360, tools=tools, title=\"K = 2\", x_axis_label = \"PC1\", y_axis_label = \"PC2\")\n",
    "p.circle(\"x\", \"y\", source=source, size=20, color=\"color\", alpha=0.5)\n",
    "show(p, notebook_handle=True)"
   ]
  },
  {
   "cell_type": "markdown",
   "metadata": {},
   "source": [
    "### K = 5"
   ]
  },
  {
   "cell_type": "code",
   "execution_count": 18,
   "metadata": {},
   "outputs": [
    {
     "data": {
      "text/html": [
       "\n",
       "\n",
       "\n",
       "\n",
       "\n",
       "\n",
       "  <div class=\"bk-root\" id=\"5147b23a-0eb7-4d9d-bb21-cb7d8d1c03b9\" data-root-id=\"1403\"></div>\n"
      ]
     },
     "metadata": {},
     "output_type": "display_data"
    },
    {
     "data": {
      "application/javascript": [
       "(function(root) {\n",
       "  function embed_document(root) {\n",
       "    \n",
       "  var docs_json = {\"c6cafee1-da4f-4dd8-9cc4-e79dfcaa10de\":{\"roots\":{\"references\":[{\"attributes\":{\"below\":[{\"id\":\"1414\",\"type\":\"LinearAxis\"}],\"center\":[{\"id\":\"1418\",\"type\":\"Grid\"},{\"id\":\"1423\",\"type\":\"Grid\"}],\"left\":[{\"id\":\"1419\",\"type\":\"LinearAxis\"}],\"plot_height\":360,\"plot_width\":960,\"renderers\":[{\"id\":\"1433\",\"type\":\"GlyphRenderer\"}],\"title\":{\"id\":\"1404\",\"type\":\"Title\"},\"toolbar\":{\"id\":\"1424\",\"type\":\"Toolbar\"},\"x_range\":{\"id\":\"1406\",\"type\":\"DataRange1d\"},\"x_scale\":{\"id\":\"1410\",\"type\":\"LinearScale\"},\"y_range\":{\"id\":\"1408\",\"type\":\"DataRange1d\"},\"y_scale\":{\"id\":\"1412\",\"type\":\"LinearScale\"}},\"id\":\"1403\",\"subtype\":\"Figure\",\"type\":\"Plot\"},{\"attributes\":{\"axis_label\":\"PC1\",\"formatter\":{\"id\":\"1464\",\"type\":\"BasicTickFormatter\"},\"ticker\":{\"id\":\"1415\",\"type\":\"BasicTicker\"}},\"id\":\"1414\",\"type\":\"LinearAxis\"},{\"attributes\":{\"dimension\":1,\"ticker\":{\"id\":\"1420\",\"type\":\"BasicTicker\"}},\"id\":\"1423\",\"type\":\"Grid\"},{\"attributes\":{},\"id\":\"1415\",\"type\":\"BasicTicker\"},{\"attributes\":{\"ticker\":{\"id\":\"1415\",\"type\":\"BasicTicker\"}},\"id\":\"1418\",\"type\":\"Grid\"},{\"attributes\":{\"callback\":null,\"data\":{\"color\":[\"#66a61e\",\"#66a61e\",\"#7570b3\",\"#7570b3\",\"#7570b3\",\"#7570b3\",\"#7570b3\",\"#1b9e77\",\"#1b9e77\",\"#e7298a\",\"#e7298a\",\"#d95f02\",\"#d95f02\",\"#66a61e\",\"#66a61e\",\"#1b9e77\",\"#7570b3\",\"#7570b3\",\"#66a61e\",\"#7570b3\",\"#7570b3\",\"#66a61e\",\"#e7298a\",\"#66a61e\",\"#66a61e\",\"#7570b3\",\"#7570b3\",\"#7570b3\",\"#e7298a\",\"#e7298a\",\"#7570b3\",\"#e7298a\",\"#7570b3\",\"#d95f02\",\"#7570b3\",\"#d95f02\",\"#1b9e77\"],\"name\":[\"Independence Day (a.k.a. ID4) (1996)\",\"Spider-Man (2002)\",\"Matrix, The (1999)\",\"Shawshank Redemption, The (1994)\",\"American History X (1998)\",\"Wild Strawberries (Smultronst\\u00e4llet) (1957)\",\"Control (2007)\",\"Miss Congeniality 2: Armed and Fabulous (2005)\",\"Just My Luck (2006)\",\"Santa Sangre (1989)\",\"Videodrome (1983)\",\"Billy Elliot (2000)\",\"Pride (2014)\",\"Jurassic Park (1993)\",\"Star Wars: Episode IV - A New Hope (1977)\",\"Princess Diaries, The (2001)\",\"Schindler's List (1993)\",\"Fight Club (1999)\",\"New York Ripper, The (Squartatore di New York, Lo) (1982)\",\"American Beauty (1999)\",\"City of God (Cidade de Deus) (2002)\",\"Battleship (2012)\",\"Take Care of My Cat (Goyangileul butaghae) (2001)\",\"Terminator, The (1984)\",\"Edge of Tomorrow (2014)\",\"Forrest Gump (1994)\",\"King's Speech, The (2010)\",\"Life Is Beautiful (La Vita \\u00e8 bella) (1997)\",\"Stage Fright (Deliria) (1987)\",\"Ichi the Killer (Koroshiya 1) (2001)\",\"Brazil (1985)\",\"Fountain, The (2006)\",\"Accused, The (1988)\",\"Time to Kill, A (1996)\",\"Ghost Writer, The (2010)\",\"Superbad (2007)\",\"American Pie (1999)\"],\"x\":[1.9563192464706576,2.423473011939731,6.1669229949762885,8.263266304963055,8.407282228254966,7.4675852350725,7.309527270150396,0.27638073270278973,0.09133591026512591,5.478011932785142,4.33573841598389,5.112584895129653,5.350205221235805,3.4670611846015564,5.283249654357828,0.7511985315999703,8.01286285082763,8.448732889671694,2.628179377648641,8.594701228394436,8.862855699951107,0.07895014805737957,2.558724956197571,4.887597829601457,4.356287831804954,6.080402888934177,6.351129429131258,6.608352902835764,4.417500015444918,4.314339943618693,6.342243226893636,5.7834002844838945,5.784931428017216,3.7555094955835977,5.4392321326182325,3.691139544110921,2.212503735032812],\"y\":[-7.004651322298648,-6.568361706153165,-8.288756869341004,-5.846979358682063,-4.8791047963082255,-1.096127281170239,-1.8150512541562502,-2.2894303250116406,-1.8303448652081353,-1.860157087282964,-1.8528059086619635,-2.220114087389764,-1.8469216704740545,-7.283029689024392,-7.576582963071945,-2.300994940111539,-4.795991450586846,-5.661292452125193,-2.9951092439009486,-3.1185938681355045,-4.322910455168616,-4.951407849275805,0.21770525613205752,-7.444349465494808,-7.0766292577588095,-5.029462539700721,-3.740124508583709,-3.5359042615520346,-2.8265967275157395,-2.541359361363761,-3.2403711678747125,-2.8005467589011497,-3.482605027518492,-3.8082300471480064,-3.722982094802201,-2.7906872889413767,-3.6432593003081357]},\"selected\":{\"id\":\"1469\",\"type\":\"Selection\"},\"selection_policy\":{\"id\":\"1468\",\"type\":\"UnionRenderers\"}},\"id\":\"1397\",\"type\":\"ColumnDataSource\"},{\"attributes\":{},\"id\":\"1420\",\"type\":\"BasicTicker\"},{\"attributes\":{\"callback\":null,\"tooltips\":[[\"Name\",\"@name\"]]},\"id\":\"1398\",\"type\":\"HoverTool\"},{\"attributes\":{\"axis_label\":\"PC2\",\"formatter\":{\"id\":\"1466\",\"type\":\"BasicTickFormatter\"},\"ticker\":{\"id\":\"1420\",\"type\":\"BasicTicker\"}},\"id\":\"1419\",\"type\":\"LinearAxis\"},{\"attributes\":{},\"id\":\"1400\",\"type\":\"PanTool\"},{\"attributes\":{\"fill_alpha\":{\"value\":0.1},\"fill_color\":{\"value\":\"#1f77b4\"},\"line_alpha\":{\"value\":0.1},\"line_color\":{\"value\":\"#1f77b4\"},\"size\":{\"units\":\"screen\",\"value\":20},\"x\":{\"field\":\"x\"},\"y\":{\"field\":\"y\"}},\"id\":\"1432\",\"type\":\"Circle\"},{\"attributes\":{\"data_source\":{\"id\":\"1397\",\"type\":\"ColumnDataSource\"},\"glyph\":{\"id\":\"1431\",\"type\":\"Circle\"},\"hover_glyph\":null,\"muted_glyph\":null,\"nonselection_glyph\":{\"id\":\"1432\",\"type\":\"Circle\"},\"selection_glyph\":null,\"view\":{\"id\":\"1434\",\"type\":\"CDSView\"}},\"id\":\"1433\",\"type\":\"GlyphRenderer\"},{\"attributes\":{},\"id\":\"1402\",\"type\":\"SaveTool\"},{\"attributes\":{},\"id\":\"1464\",\"type\":\"BasicTickFormatter\"},{\"attributes\":{},\"id\":\"1399\",\"type\":\"ResetTool\"},{\"attributes\":{},\"id\":\"1401\",\"type\":\"WheelZoomTool\"},{\"attributes\":{},\"id\":\"1466\",\"type\":\"BasicTickFormatter\"},{\"attributes\":{\"active_drag\":\"auto\",\"active_inspect\":\"auto\",\"active_multi\":null,\"active_scroll\":\"auto\",\"active_tap\":\"auto\",\"tools\":[{\"id\":\"1398\",\"type\":\"HoverTool\"},{\"id\":\"1399\",\"type\":\"ResetTool\"},{\"id\":\"1400\",\"type\":\"PanTool\"},{\"id\":\"1401\",\"type\":\"WheelZoomTool\"},{\"id\":\"1402\",\"type\":\"SaveTool\"}]},\"id\":\"1424\",\"type\":\"Toolbar\"},{\"attributes\":{},\"id\":\"1468\",\"type\":\"UnionRenderers\"},{\"attributes\":{\"fill_alpha\":{\"value\":0.5},\"fill_color\":{\"field\":\"color\"},\"line_alpha\":{\"value\":0.5},\"line_color\":{\"field\":\"color\"},\"size\":{\"units\":\"screen\",\"value\":20},\"x\":{\"field\":\"x\"},\"y\":{\"field\":\"y\"}},\"id\":\"1431\",\"type\":\"Circle\"},{\"attributes\":{\"text\":\"K = 2\"},\"id\":\"1404\",\"type\":\"Title\"},{\"attributes\":{},\"id\":\"1469\",\"type\":\"Selection\"},{\"attributes\":{\"callback\":null},\"id\":\"1406\",\"type\":\"DataRange1d\"},{\"attributes\":{},\"id\":\"1410\",\"type\":\"LinearScale\"},{\"attributes\":{},\"id\":\"1412\",\"type\":\"LinearScale\"},{\"attributes\":{\"source\":{\"id\":\"1397\",\"type\":\"ColumnDataSource\"}},\"id\":\"1434\",\"type\":\"CDSView\"},{\"attributes\":{\"callback\":null},\"id\":\"1408\",\"type\":\"DataRange1d\"}],\"root_ids\":[\"1403\"]},\"title\":\"Bokeh Application\",\"version\":\"1.3.4\"}};\n",
       "  var render_items = [{\"docid\":\"c6cafee1-da4f-4dd8-9cc4-e79dfcaa10de\",\"notebook_comms_target\":\"1470\",\"roots\":{\"1403\":\"5147b23a-0eb7-4d9d-bb21-cb7d8d1c03b9\"}}];\n",
       "  root.Bokeh.embed.embed_items_notebook(docs_json, render_items);\n",
       "\n",
       "  }\n",
       "  if (root.Bokeh !== undefined) {\n",
       "    embed_document(root);\n",
       "  } else {\n",
       "    var attempts = 0;\n",
       "    var timer = setInterval(function(root) {\n",
       "      if (root.Bokeh !== undefined) {\n",
       "        embed_document(root);\n",
       "        clearInterval(timer);\n",
       "      }\n",
       "      attempts++;\n",
       "      if (attempts > 100) {\n",
       "        console.log(\"Bokeh: ERROR: Unable to run BokehJS code because BokehJS library is missing\");\n",
       "        clearInterval(timer);\n",
       "      }\n",
       "    }, 10, root)\n",
       "  }\n",
       "})(window);"
      ],
      "application/vnd.bokehjs_exec.v0+json": ""
     },
     "metadata": {
      "application/vnd.bokehjs_exec.v0+json": {
       "id": "1403"
      }
     },
     "output_type": "display_data"
    },
    {
     "data": {
      "text/html": [
       "<p><code>&lt;Bokeh Notebook handle for <strong>In[18]</strong>&gt;</code></p>"
      ],
      "text/plain": [
       "<bokeh.io.notebook.CommsHandle at 0x7f3167a9d750>"
      ]
     },
     "execution_count": 18,
     "metadata": {},
     "output_type": "execute_result"
    }
   ],
   "source": [
    "l = []\n",
    "for i, e in enumerate(movies):\n",
    "    # First of all the vector:\n",
    "    aux_id = e[0]\n",
    "    aux = np.where(moviesID == aux_id)\n",
    "    x_e = X[:,aux].reshape(M,1) # This is the vector of movies\n",
    "    \n",
    "    # Projection of score to eigenvectors:\n",
    "    x_v = np.dot(np.transpose(PC5),x_e) # first 2 components coordinates are projection :)\n",
    "    x_v = x_v[0:5].reshape(1,5)\n",
    "    \n",
    "    l.append([float(x_v[0,0]),float(x_v[0,1]),e[1],int(km5.predict(x_v))]) # (x_1,x_2,title,category)\n",
    "\n",
    "    \n",
    "    \n",
    "data = l\n",
    "source = ColumnDataSource(\n",
    "    data={\n",
    "        \"x\": [x[0] for x in data],\n",
    "        \"y\": [x[1] for x in data],\n",
    "        \"name\": [x[2] for x in data],\n",
    "        \"color\": [Dark2_8[x[3]] for x in data],\n",
    "    })\n",
    "\n",
    "hover = HoverTool(\n",
    "    tooltips=[\n",
    "        (\"Name\", \"@name\"),\n",
    "    ])\n",
    "tools = [hover, ResetTool(), PanTool(), WheelZoomTool(), SaveTool()]\n",
    "\n",
    "p = figure(plot_width=960, plot_height=360, tools=tools, title=\"K = 2\", x_axis_label = \"PC1\", y_axis_label = \"PC2\")\n",
    "p.circle(\"x\", \"y\", source=source, size=20, color=\"color\", alpha=0.5)\n",
    "show(p, notebook_handle=True)"
   ]
  },
  {
   "cell_type": "markdown",
   "metadata": {},
   "source": [
    "-----\n",
    "-----\n",
    "\n",
    "# EXERCISE 3.12: Clustering movies\n",
    "\n",
    "Create a dict that maps movie IDs to set of genres from the data in movies.txt.\n",
    "\n",
    "* Implement the k-medioids algorithm with the Jaccard distance.\n",
    "* Cluster the set of movies in the file most-rated.pickle, using k = 2.\n",
    "* Find a good way to visualize the results of the clustering. For example, you could try to visually represent the frequency of the genres in each of the clusters.\n",
    "\n",
    "How do you intepret the two clusters?\n",
    "\n",
    "-----\n",
    "-----"
   ]
  },
  {
   "cell_type": "markdown",
   "metadata": {},
   "source": [
    "Let us define the Jaccard distance between two sets $A$ and $B$:\n",
    "\n",
    "$$d(A,B) = 1 - \\frac{| A \\cap B |}{| A \\cup B |}$$\n",
    "\n",
    "Now the problem is that there is **not a clear sense of center**, and **visualizing the space is challenging**. To solve the former, we will pick the point within the cluster which is closest to all others.\n",
    "\n",
    "**NOTE:** In our case the sets we are talking about are the sets of genres. In this exercise we will cluster the movies based on the genres. This means that closer movies are the ones which have more similar generes assigned. This is what the distance above is basically saying.\n",
    "\n",
    "Let us first implement the algorithm 3.1 of the handout."
   ]
  },
  {
   "cell_type": "code",
   "execution_count": 22,
   "metadata": {},
   "outputs": [],
   "source": [
    "mov_to_gen = dict(movies_ini.map(itemgetter(\"movieId\", \"genres\")).collect())"
   ]
  },
  {
   "cell_type": "code",
   "execution_count": 28,
   "metadata": {},
   "outputs": [],
   "source": [
    "with open(\"most-rated.pickle\", \"rb\") as f:\n",
    "    movies = pickle.load(f, encoding=\"utf-8\")"
   ]
  },
  {
   "cell_type": "code",
   "execution_count": 36,
   "metadata": {},
   "outputs": [
    {
     "data": {
      "text/plain": [
       "383"
      ]
     },
     "execution_count": 36,
     "metadata": {},
     "output_type": "execute_result"
    }
   ],
   "source": [
    "#movies[i] # it tells you the id and the title\n",
    "movies[999][0]"
   ]
  },
  {
   "cell_type": "markdown",
   "metadata": {},
   "source": [
    "## K-means algorithm based on genres (with Jaccard distance )"
   ]
  },
  {
   "cell_type": "markdown",
   "metadata": {},
   "source": [
    "In this algorithm the points are the movies (with their genres), the distance function is the one defined above, and we will use $k = 2$. As asked in the exercise we are doing it with most-rated movies."
   ]
  },
  {
   "cell_type": "code",
   "execution_count": null,
   "metadata": {},
   "outputs": [],
   "source": [
    "#max(IDM)\n",
    "#IDM[14551]\n",
    "d = {1:2,5:5,10:3}\n",
    "random.choice(list(d))"
   ]
  },
  {
   "cell_type": "code",
   "execution_count": 37,
   "metadata": {},
   "outputs": [],
   "source": [
    "def dist(x,y):\n",
    "    # these are the list of generes\n",
    "    x = set(mov_to_gen[x])\n",
    "    y = set(mov_to_gen[y])\n",
    "    both = len(x & y)\n",
    "    J = float(both) / (len(x) + len(y) - both)\n",
    "    return 1 - J"
   ]
  },
  {
   "cell_type": "code",
   "execution_count": 164,
   "metadata": {
    "scrolled": true
   },
   "outputs": [
    {
     "name": "stdout",
     "output_type": "stream",
     "text": [
      "Iteration 0\n",
      "Iteration 1\n",
      "Iteration 2\n",
      "In trial 0 the minimum found is 540.6773809523816\n",
      "Iteration 0\n",
      "Iteration 1\n",
      "Iteration 2\n",
      "In trial 1 the minimum found is 588.7952380952383\n",
      "Iteration 0\n",
      "Iteration 1\n",
      "Iteration 2\n",
      "Iteration 3\n",
      "In trial 2 the minimum found is 374.95476190476217\n",
      "Iteration 0\n",
      "Iteration 1\n",
      "Iteration 2\n",
      "Iteration 3\n",
      "Iteration 4\n",
      "In trial 3 the minimum found is 450.4714285714293\n",
      "Iteration 0\n",
      "Iteration 1\n",
      "Iteration 2\n",
      "Iteration 3\n",
      "In trial 4 the minimum found is 585.2285714285723\n",
      "Iteration 0\n",
      "Iteration 1\n",
      "Iteration 2\n",
      "Iteration 3\n",
      "In trial 5 the minimum found is 394.6071428571428\n",
      "Iteration 0\n",
      "Iteration 1\n",
      "Iteration 2\n",
      "In trial 6 the minimum found is 578.6321428571438\n",
      "Iteration 0\n",
      "Iteration 1\n",
      "Iteration 2\n",
      "In trial 7 the minimum found is 608.727380952382\n",
      "Iteration 0\n",
      "Iteration 1\n",
      "Iteration 2\n",
      "Iteration 3\n",
      "In trial 8 the minimum found is 541.0765873015881\n",
      "Iteration 0\n",
      "Iteration 1\n",
      "Iteration 2\n",
      "In trial 9 the minimum found is 487.0555555555564\n",
      "Iteration 0\n",
      "Iteration 1\n",
      "Iteration 2\n",
      "In trial 10 the minimum found is 533.2793650793658\n",
      "Iteration 0\n",
      "Iteration 1\n",
      "Iteration 2\n",
      "In trial 11 the minimum found is 558.9511904761919\n",
      "Iteration 0\n",
      "Iteration 1\n",
      "Iteration 2\n",
      "In trial 12 the minimum found is 528.8428571428567\n",
      "Iteration 0\n",
      "Iteration 1\n",
      "Iteration 2\n",
      "Iteration 3\n",
      "Iteration 4\n",
      "In trial 13 the minimum found is 374.95476190476217\n",
      "Iteration 0\n",
      "Iteration 1\n",
      "Iteration 2\n",
      "In trial 14 the minimum found is 611.3416666666678\n",
      "Iteration 0\n",
      "Iteration 1\n",
      "Iteration 2\n",
      "In trial 15 the minimum found is 558.9511904761919\n",
      "Iteration 0\n",
      "Iteration 1\n",
      "Iteration 2\n",
      "In trial 16 the minimum found is 547.4297619047617\n",
      "Iteration 0\n",
      "Iteration 1\n",
      "Iteration 2\n",
      "In trial 17 the minimum found is 603.7575396825405\n",
      "Iteration 0\n",
      "Iteration 1\n",
      "Iteration 2\n",
      "Iteration 3\n",
      "Iteration 4\n",
      "In trial 18 the minimum found is 468.4523809523817\n",
      "Iteration 0\n",
      "Iteration 1\n",
      "Iteration 2\n",
      "In trial 19 the minimum found is 601.0543650793658\n"
     ]
    }
   ],
   "source": [
    "# We will only use the most-rated movies to train, otherwise it is too expensive.\n",
    "\n",
    "k = 2\n",
    "# Remember there is a total of 27278 movies (intro to spark notebook)\n",
    "m = np.zeros((20,k))\n",
    "max_iter = 50\n",
    "\n",
    "\n",
    "for trial in range(0,20): # We will try the algorithm 20 times and choose the best result\n",
    "    \n",
    "    # Random initialization of the centers:\n",
    "    for i in range(0,k):\n",
    "        m_i = randint(0,999)\n",
    "        m[trial,i] = movies[m_i][0]\n",
    "\n",
    "    C1_prev = []\n",
    "    C1 = [1]\n",
    "    it = 0\n",
    "    d1 = 10000\n",
    "    d2 = 10000\n",
    "    while C1_prev != C1 and it < max_iter:\n",
    "        print(\"Iteration\", it)\n",
    "        C1_prev = C1\n",
    "        it = it + 1\n",
    "        C1 = []\n",
    "        C2 = []\n",
    "\n",
    "\n",
    "        # go through all the movies adding them to the closest center:\n",
    "        for e in movies:\n",
    "            ID = e[0]\n",
    "            if dist(ID,m[trial,0]) < dist(ID,m[trial,1]): # closest center to ID\n",
    "                C1.append(ID) \n",
    "            else:\n",
    "                C2.append(ID)\n",
    "\n",
    "        # update the centers with new clusters:\n",
    "        \n",
    "        for i in range(0,k):\n",
    "\n",
    "            # calculate the distance of each of the elements to all others and save the sum if it is the best one.\n",
    "            if i == 0:\n",
    "                d_min1 = -1 # we want to update the cluster \n",
    "                for ID1 in C1:\n",
    "                    d = 0\n",
    "                    for ID2 in C1: # this for loop lasts minutes...\n",
    "                        d = d + dist(ID1,ID2)\n",
    "                    if d < d_min1 or d_min1 == -1:\n",
    "                        d_min1 = d\n",
    "                        m[trial,0] = ID1\n",
    "                        if d_min1 < d1:\n",
    "                            d1 = d_min1\n",
    "            \n",
    "            if i == 1:\n",
    "                d_min2 = -1\n",
    "                for ID1 in C2:\n",
    "                    d = 0\n",
    "                    for ID2 in C2:\n",
    "                        d = d + dist(ID1,ID2)\n",
    "                    if d < d_min2 or d_min2 == -1:\n",
    "                        d_min2 = d\n",
    "                        m[trial,1] = ID1\n",
    "                        if d_min2 < d2:\n",
    "                            d2 = d_min2\n",
    "    print(\"In trial\", trial, \"the minimum found is\", d1 + d2)"
   ]
  },
  {
   "cell_type": "markdown",
   "metadata": {},
   "source": [
    "The lowest value obtained is 374 in trial 2!"
   ]
  },
  {
   "cell_type": "code",
   "execution_count": 165,
   "metadata": {},
   "outputs": [
    {
     "data": {
      "text/plain": [
       "array([ 539., 6016.])"
      ]
     },
     "execution_count": 165,
     "metadata": {},
     "output_type": "execute_result"
    }
   ],
   "source": [
    "m[2,:] # the first for C1 and the second for C2"
   ]
  },
  {
   "cell_type": "code",
   "execution_count": 166,
   "metadata": {},
   "outputs": [],
   "source": [
    "C1 = []\n",
    "C2 = []\n",
    "for e in movies:\n",
    "            ID = e[0]\n",
    "            if dist(ID,m[2,0]) < dist(ID,m[2,1]): # closest center to ID\n",
    "                C1.append(ID) \n",
    "            else:\n",
    "                C2.append(ID)"
   ]
  },
  {
   "cell_type": "markdown",
   "metadata": {},
   "source": [
    "## Visualization\n",
    "\n",
    "We will count how many times each genre is repeated in each cluster and then plot the \"density\". This will somehow characterize the clusters."
   ]
  },
  {
   "cell_type": "code",
   "execution_count": 167,
   "metadata": {},
   "outputs": [],
   "source": [
    "genres = movies_ini.flatMap(itemgetter(\"genres\")) # This is a list of lists. Each list containing a list of genres\n",
    "genres = genres.distinct()\n",
    "genres = genres.take(100)\n",
    "genres = np.array(genres)"
   ]
  },
  {
   "cell_type": "code",
   "execution_count": 168,
   "metadata": {},
   "outputs": [],
   "source": [
    "h1 = np.zeros(len(genres))\n",
    "for ID in C1:\n",
    "    l = mov_to_gen[ID]\n",
    "    for genre in l:\n",
    "        pos = np.where(genres == genre)\n",
    "        h1[pos] += 1"
   ]
  },
  {
   "cell_type": "code",
   "execution_count": 169,
   "metadata": {},
   "outputs": [
    {
     "data": {
      "text/plain": [
       "<BarContainer object of 20 artists>"
      ]
     },
     "execution_count": 169,
     "metadata": {},
     "output_type": "execute_result"
    },
    {
     "data": {
      "image/png": "[encoded data removed]",
      "text/plain": [
       "<Figure size 432x288 with 1 Axes>"
      ]
     },
     "metadata": {},
     "output_type": "display_data"
    }
   ],
   "source": [
    "plt.bar(list(range(20)),h1)"
   ]
  },
  {
   "cell_type": "code",
   "execution_count": 170,
   "metadata": {},
   "outputs": [],
   "source": [
    "h2 = np.zeros(len(genres))\n",
    "for ID in C2:\n",
    "    l = mov_to_gen[ID]\n",
    "    for genre in l:\n",
    "        pos = np.where(genres == genre)\n",
    "        h2[pos] += 1"
   ]
  },
  {
   "cell_type": "code",
   "execution_count": 171,
   "metadata": {},
   "outputs": [
    {
     "data": {
      "text/plain": [
       "<BarContainer object of 20 artists>"
      ]
     },
     "execution_count": 171,
     "metadata": {},
     "output_type": "execute_result"
    },
    {
     "data": {
      "image/png": "[encoded data removed]",
      "text/plain": [
       "<Figure size 432x288 with 1 Axes>"
      ]
     },
     "metadata": {},
     "output_type": "display_data"
    }
   ],
   "source": [
    "plt.bar(list(range(20)),h2)"
   ]
  },
  {
   "cell_type": "markdown",
   "metadata": {},
   "source": [
    "The most frequent genres for each cluster are:\n",
    "\n",
    "* **C1**: Drama, Romance, Comedy.\n",
    "* **C2**: Drama, Action, Thriller, Adventure.\n",
    "\n",
    "The most common genres of each cluster tend to be together. In this case, Drama, Romance, and Comedy tend to go together in movies. Also, the other characteristic is that they differ from the other clusters genres, which allows to separate the data better: romance and comedy is way different than action and adventure."
   ]
  }
 ],
 "metadata": {
  "anaconda-cloud": {},
  "kernelspec": {
   "display_name": "Python 3",
   "language": "python",
   "name": "python3"
  },
  "language_info": {
   "codemirror_mode": {
    "name": "ipython",
    "version": 3
   },
   "file_extension": ".py",
   "mimetype": "text/x-python",
   "name": "python",
   "nbconvert_exporter": "python",
   "pygments_lexer": "ipython3",
   "version": "3.7.4"
  }
 },
 "nbformat": 4,
 "nbformat_minor": 1
}
