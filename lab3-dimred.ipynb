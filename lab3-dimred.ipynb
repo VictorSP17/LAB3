{
 "cells": [
  {
   "cell_type": "markdown",
   "metadata": {},
   "source": [
    "# Dimensionality Reduction\n",
    "\n",
    "----------\n",
    "\n",
    "## Internet Analytics - Lab 3\n",
    "\n",
    "**Group**: J\n",
    "\n",
    "**Names**:\n",
    "\n",
    "* Maxime LANVIN\n",
    "* Victor SALVIA\n",
    "* Axel SJÖBERG"
   ]
  },
  {
   "cell_type": "code",
   "execution_count": 26,
   "metadata": {},
   "outputs": [
    {
     "data": {
      "text/html": [
       "\n",
       "    <div class=\"bk-root\">\n",
       "        <a href=\"https://bokeh.pydata.org\" target=\"_blank\" class=\"bk-logo bk-logo-small bk-logo-notebook\"></a>\n",
       "        <span id=\"1287\">Loading BokehJS ...</span>\n",
       "    </div>"
      ]
     },
     "metadata": {},
     "output_type": "display_data"
    },
    {
     "data": {
      "application/javascript": [
       "\n",
       "(function(root) {\n",
       "  function now() {\n",
       "    return new Date();\n",
       "  }\n",
       "\n",
       "  var force = true;\n",
       "\n",
       "  if (typeof root._bokeh_onload_callbacks === \"undefined\" || force === true) {\n",
       "    root._bokeh_onload_callbacks = [];\n",
       "    root._bokeh_is_loading = undefined;\n",
       "  }\n",
       "\n",
       "  var JS_MIME_TYPE = 'application/javascript';\n",
       "  var HTML_MIME_TYPE = 'text/html';\n",
       "  var EXEC_MIME_TYPE = 'application/vnd.bokehjs_exec.v0+json';\n",
       "  var CLASS_NAME = 'output_bokeh rendered_html';\n",
       "\n",
       "  /**\n",
       "   * Render data to the DOM node\n",
       "   */\n",
       "  function render(props, node) {\n",
       "    var script = document.createElement(\"script\");\n",
       "    node.appendChild(script);\n",
       "  }\n",
       "\n",
       "  /**\n",
       "   * Handle when an output is cleared or removed\n",
       "   */\n",
       "  function handleClearOutput(event, handle) {\n",
       "    var cell = handle.cell;\n",
       "\n",
       "    var id = cell.output_area._bokeh_element_id;\n",
       "    var server_id = cell.output_area._bokeh_server_id;\n",
       "    // Clean up Bokeh references\n",
       "    if (id != null && id in Bokeh.index) {\n",
       "      Bokeh.index[id].model.document.clear();\n",
       "      delete Bokeh.index[id];\n",
       "    }\n",
       "\n",
       "    if (server_id !== undefined) {\n",
       "      // Clean up Bokeh references\n",
       "      var cmd = \"from bokeh.io.state import curstate; print(curstate().uuid_to_server['\" + server_id + \"'].get_sessions()[0].document.roots[0]._id)\";\n",
       "      cell.notebook.kernel.execute(cmd, {\n",
       "        iopub: {\n",
       "          output: function(msg) {\n",
       "            var id = msg.content.text.trim();\n",
       "            if (id in Bokeh.index) {\n",
       "              Bokeh.index[id].model.document.clear();\n",
       "              delete Bokeh.index[id];\n",
       "            }\n",
       "          }\n",
       "        }\n",
       "      });\n",
       "      // Destroy server and session\n",
       "      var cmd = \"import bokeh.io.notebook as ion; ion.destroy_server('\" + server_id + \"')\";\n",
       "      cell.notebook.kernel.execute(cmd);\n",
       "    }\n",
       "  }\n",
       "\n",
       "  /**\n",
       "   * Handle when a new output is added\n",
       "   */\n",
       "  function handleAddOutput(event, handle) {\n",
       "    var output_area = handle.output_area;\n",
       "    var output = handle.output;\n",
       "\n",
       "    // limit handleAddOutput to display_data with EXEC_MIME_TYPE content only\n",
       "    if ((output.output_type != \"display_data\") || (!output.data.hasOwnProperty(EXEC_MIME_TYPE))) {\n",
       "      return\n",
       "    }\n",
       "\n",
       "    var toinsert = output_area.element.find(\".\" + CLASS_NAME.split(' ')[0]);\n",
       "\n",
       "    if (output.metadata[EXEC_MIME_TYPE][\"id\"] !== undefined) {\n",
       "      toinsert[toinsert.length - 1].firstChild.textContent = output.data[JS_MIME_TYPE];\n",
       "      // store reference to embed id on output_area\n",
       "      output_area._bokeh_element_id = output.metadata[EXEC_MIME_TYPE][\"id\"];\n",
       "    }\n",
       "    if (output.metadata[EXEC_MIME_TYPE][\"server_id\"] !== undefined) {\n",
       "      var bk_div = document.createElement(\"div\");\n",
       "      bk_div.innerHTML = output.data[HTML_MIME_TYPE];\n",
       "      var script_attrs = bk_div.children[0].attributes;\n",
       "      for (var i = 0; i < script_attrs.length; i++) {\n",
       "        toinsert[toinsert.length - 1].firstChild.setAttribute(script_attrs[i].name, script_attrs[i].value);\n",
       "      }\n",
       "      // store reference to server id on output_area\n",
       "      output_area._bokeh_server_id = output.metadata[EXEC_MIME_TYPE][\"server_id\"];\n",
       "    }\n",
       "  }\n",
       "\n",
       "  function register_renderer(events, OutputArea) {\n",
       "\n",
       "    function append_mime(data, metadata, element) {\n",
       "      // create a DOM node to render to\n",
       "      var toinsert = this.create_output_subarea(\n",
       "        metadata,\n",
       "        CLASS_NAME,\n",
       "        EXEC_MIME_TYPE\n",
       "      );\n",
       "      this.keyboard_manager.register_events(toinsert);\n",
       "      // Render to node\n",
       "      var props = {data: data, metadata: metadata[EXEC_MIME_TYPE]};\n",
       "      render(props, toinsert[toinsert.length - 1]);\n",
       "      element.append(toinsert);\n",
       "      return toinsert\n",
       "    }\n",
       "\n",
       "    /* Handle when an output is cleared or removed */\n",
       "    events.on('clear_output.CodeCell', handleClearOutput);\n",
       "    events.on('delete.Cell', handleClearOutput);\n",
       "\n",
       "    /* Handle when a new output is added */\n",
       "    events.on('output_added.OutputArea', handleAddOutput);\n",
       "\n",
       "    /**\n",
       "     * Register the mime type and append_mime function with output_area\n",
       "     */\n",
       "    OutputArea.prototype.register_mime_type(EXEC_MIME_TYPE, append_mime, {\n",
       "      /* Is output safe? */\n",
       "      safe: true,\n",
       "      /* Index of renderer in `output_area.display_order` */\n",
       "      index: 0\n",
       "    });\n",
       "  }\n",
       "\n",
       "  // register the mime type if in Jupyter Notebook environment and previously unregistered\n",
       "  if (root.Jupyter !== undefined) {\n",
       "    var events = require('base/js/events');\n",
       "    var OutputArea = require('notebook/js/outputarea').OutputArea;\n",
       "\n",
       "    if (OutputArea.prototype.mime_types().indexOf(EXEC_MIME_TYPE) == -1) {\n",
       "      register_renderer(events, OutputArea);\n",
       "    }\n",
       "  }\n",
       "\n",
       "  \n",
       "  if (typeof (root._bokeh_timeout) === \"undefined\" || force === true) {\n",
       "    root._bokeh_timeout = Date.now() + 5000;\n",
       "    root._bokeh_failed_load = false;\n",
       "  }\n",
       "\n",
       "  var NB_LOAD_WARNING = {'data': {'text/html':\n",
       "     \"<div style='background-color: #fdd'>\\n\"+\n",
       "     \"<p>\\n\"+\n",
       "     \"BokehJS does not appear to have successfully loaded. If loading BokehJS from CDN, this \\n\"+\n",
       "     \"may be due to a slow or bad network connection. Possible fixes:\\n\"+\n",
       "     \"</p>\\n\"+\n",
       "     \"<ul>\\n\"+\n",
       "     \"<li>re-rerun `output_notebook()` to attempt to load from CDN again, or</li>\\n\"+\n",
       "     \"<li>use INLINE resources instead, as so:</li>\\n\"+\n",
       "     \"</ul>\\n\"+\n",
       "     \"<code>\\n\"+\n",
       "     \"from bokeh.resources import INLINE\\n\"+\n",
       "     \"output_notebook(resources=INLINE)\\n\"+\n",
       "     \"</code>\\n\"+\n",
       "     \"</div>\"}};\n",
       "\n",
       "  function display_loaded() {\n",
       "    var el = document.getElementById(\"1287\");\n",
       "    if (el != null) {\n",
       "      el.textContent = \"BokehJS is loading...\";\n",
       "    }\n",
       "    if (root.Bokeh !== undefined) {\n",
       "      if (el != null) {\n",
       "        el.textContent = \"BokehJS \" + root.Bokeh.version + \" successfully loaded.\";\n",
       "      }\n",
       "    } else if (Date.now() < root._bokeh_timeout) {\n",
       "      setTimeout(display_loaded, 100)\n",
       "    }\n",
       "  }\n",
       "\n",
       "\n",
       "  function run_callbacks() {\n",
       "    try {\n",
       "      root._bokeh_onload_callbacks.forEach(function(callback) {\n",
       "        if (callback != null)\n",
       "          callback();\n",
       "      });\n",
       "    } finally {\n",
       "      delete root._bokeh_onload_callbacks\n",
       "    }\n",
       "    console.debug(\"Bokeh: all callbacks have finished\");\n",
       "  }\n",
       "\n",
       "  function load_libs(css_urls, js_urls, callback) {\n",
       "    if (css_urls == null) css_urls = [];\n",
       "    if (js_urls == null) js_urls = [];\n",
       "\n",
       "    root._bokeh_onload_callbacks.push(callback);\n",
       "    if (root._bokeh_is_loading > 0) {\n",
       "      console.debug(\"Bokeh: BokehJS is being loaded, scheduling callback at\", now());\n",
       "      return null;\n",
       "    }\n",
       "    if (js_urls == null || js_urls.length === 0) {\n",
       "      run_callbacks();\n",
       "      return null;\n",
       "    }\n",
       "    console.debug(\"Bokeh: BokehJS not loaded, scheduling load and callback at\", now());\n",
       "    root._bokeh_is_loading = css_urls.length + js_urls.length;\n",
       "\n",
       "    function on_load() {\n",
       "      root._bokeh_is_loading--;\n",
       "      if (root._bokeh_is_loading === 0) {\n",
       "        console.debug(\"Bokeh: all BokehJS libraries/stylesheets loaded\");\n",
       "        run_callbacks()\n",
       "      }\n",
       "    }\n",
       "\n",
       "    function on_error() {\n",
       "      console.error(\"failed to load \" + url);\n",
       "    }\n",
       "\n",
       "    for (var i = 0; i < css_urls.length; i++) {\n",
       "      var url = css_urls[i];\n",
       "      const element = document.createElement(\"link\");\n",
       "      element.onload = on_load;\n",
       "      element.onerror = on_error;\n",
       "      element.rel = \"stylesheet\";\n",
       "      element.type = \"text/css\";\n",
       "      element.href = url;\n",
       "      console.debug(\"Bokeh: injecting link tag for BokehJS stylesheet: \", url);\n",
       "      document.body.appendChild(element);\n",
       "    }\n",
       "\n",
       "    for (var i = 0; i < js_urls.length; i++) {\n",
       "      var url = js_urls[i];\n",
       "      var element = document.createElement('script');\n",
       "      element.onload = on_load;\n",
       "      element.onerror = on_error;\n",
       "      element.async = false;\n",
       "      element.src = url;\n",
       "      console.debug(\"Bokeh: injecting script tag for BokehJS library: \", url);\n",
       "      document.head.appendChild(element);\n",
       "    }\n",
       "  };var element = document.getElementById(\"1287\");\n",
       "  if (element == null) {\n",
       "    console.error(\"Bokeh: ERROR: autoload.js configured with elementid '1287' but no matching script tag was found. \")\n",
       "    return false;\n",
       "  }\n",
       "\n",
       "  function inject_raw_css(css) {\n",
       "    const element = document.createElement(\"style\");\n",
       "    element.appendChild(document.createTextNode(css));\n",
       "    document.body.appendChild(element);\n",
       "  }\n",
       "\n",
       "  var js_urls = [\"https://cdn.pydata.org/bokeh/release/bokeh-1.3.4.min.js\", \"https://cdn.pydata.org/bokeh/release/bokeh-widgets-1.3.4.min.js\", \"https://cdn.pydata.org/bokeh/release/bokeh-tables-1.3.4.min.js\", \"https://cdn.pydata.org/bokeh/release/bokeh-gl-1.3.4.min.js\"];\n",
       "  var css_urls = [];\n",
       "\n",
       "  var inline_js = [\n",
       "    function(Bokeh) {\n",
       "      Bokeh.set_log_level(\"info\");\n",
       "    },\n",
       "    \n",
       "    function(Bokeh) {\n",
       "      \n",
       "    },\n",
       "    function(Bokeh) {} // ensure no trailing comma for IE\n",
       "  ];\n",
       "\n",
       "  function run_inline_js() {\n",
       "    \n",
       "    if ((root.Bokeh !== undefined) || (force === true)) {\n",
       "      for (var i = 0; i < inline_js.length; i++) {\n",
       "        inline_js[i].call(root, root.Bokeh);\n",
       "      }if (force === true) {\n",
       "        display_loaded();\n",
       "      }} else if (Date.now() < root._bokeh_timeout) {\n",
       "      setTimeout(run_inline_js, 100);\n",
       "    } else if (!root._bokeh_failed_load) {\n",
       "      console.log(\"Bokeh: BokehJS failed to load within specified timeout.\");\n",
       "      root._bokeh_failed_load = true;\n",
       "    } else if (force !== true) {\n",
       "      var cell = $(document.getElementById(\"1287\")).parents('.cell').data().cell;\n",
       "      cell.output_area.append_execute_result(NB_LOAD_WARNING)\n",
       "    }\n",
       "\n",
       "  }\n",
       "\n",
       "  if (root._bokeh_is_loading === 0) {\n",
       "    console.debug(\"Bokeh: BokehJS loaded, going straight to plotting\");\n",
       "    run_inline_js();\n",
       "  } else {\n",
       "    load_libs(css_urls, js_urls, function() {\n",
       "      console.debug(\"Bokeh: BokehJS plotting callback run at\", now());\n",
       "      run_inline_js();\n",
       "    });\n",
       "  }\n",
       "}(window));"
      ],
      "application/vnd.bokehjs_load.v0+json": "\n(function(root) {\n  function now() {\n    return new Date();\n  }\n\n  var force = true;\n\n  if (typeof root._bokeh_onload_callbacks === \"undefined\" || force === true) {\n    root._bokeh_onload_callbacks = [];\n    root._bokeh_is_loading = undefined;\n  }\n\n  \n\n  \n  if (typeof (root._bokeh_timeout) === \"undefined\" || force === true) {\n    root._bokeh_timeout = Date.now() + 5000;\n    root._bokeh_failed_load = false;\n  }\n\n  var NB_LOAD_WARNING = {'data': {'text/html':\n     \"<div style='background-color: #fdd'>\\n\"+\n     \"<p>\\n\"+\n     \"BokehJS does not appear to have successfully loaded. If loading BokehJS from CDN, this \\n\"+\n     \"may be due to a slow or bad network connection. Possible fixes:\\n\"+\n     \"</p>\\n\"+\n     \"<ul>\\n\"+\n     \"<li>re-rerun `output_notebook()` to attempt to load from CDN again, or</li>\\n\"+\n     \"<li>use INLINE resources instead, as so:</li>\\n\"+\n     \"</ul>\\n\"+\n     \"<code>\\n\"+\n     \"from bokeh.resources import INLINE\\n\"+\n     \"output_notebook(resources=INLINE)\\n\"+\n     \"</code>\\n\"+\n     \"</div>\"}};\n\n  function display_loaded() {\n    var el = document.getElementById(\"1287\");\n    if (el != null) {\n      el.textContent = \"BokehJS is loading...\";\n    }\n    if (root.Bokeh !== undefined) {\n      if (el != null) {\n        el.textContent = \"BokehJS \" + root.Bokeh.version + \" successfully loaded.\";\n      }\n    } else if (Date.now() < root._bokeh_timeout) {\n      setTimeout(display_loaded, 100)\n    }\n  }\n\n\n  function run_callbacks() {\n    try {\n      root._bokeh_onload_callbacks.forEach(function(callback) {\n        if (callback != null)\n          callback();\n      });\n    } finally {\n      delete root._bokeh_onload_callbacks\n    }\n    console.debug(\"Bokeh: all callbacks have finished\");\n  }\n\n  function load_libs(css_urls, js_urls, callback) {\n    if (css_urls == null) css_urls = [];\n    if (js_urls == null) js_urls = [];\n\n    root._bokeh_onload_callbacks.push(callback);\n    if (root._bokeh_is_loading > 0) {\n      console.debug(\"Bokeh: BokehJS is being loaded, scheduling callback at\", now());\n      return null;\n    }\n    if (js_urls == null || js_urls.length === 0) {\n      run_callbacks();\n      return null;\n    }\n    console.debug(\"Bokeh: BokehJS not loaded, scheduling load and callback at\", now());\n    root._bokeh_is_loading = css_urls.length + js_urls.length;\n\n    function on_load() {\n      root._bokeh_is_loading--;\n      if (root._bokeh_is_loading === 0) {\n        console.debug(\"Bokeh: all BokehJS libraries/stylesheets loaded\");\n        run_callbacks()\n      }\n    }\n\n    function on_error() {\n      console.error(\"failed to load \" + url);\n    }\n\n    for (var i = 0; i < css_urls.length; i++) {\n      var url = css_urls[i];\n      const element = document.createElement(\"link\");\n      element.onload = on_load;\n      element.onerror = on_error;\n      element.rel = \"stylesheet\";\n      element.type = \"text/css\";\n      element.href = url;\n      console.debug(\"Bokeh: injecting link tag for BokehJS stylesheet: \", url);\n      document.body.appendChild(element);\n    }\n\n    for (var i = 0; i < js_urls.length; i++) {\n      var url = js_urls[i];\n      var element = document.createElement('script');\n      element.onload = on_load;\n      element.onerror = on_error;\n      element.async = false;\n      element.src = url;\n      console.debug(\"Bokeh: injecting script tag for BokehJS library: \", url);\n      document.head.appendChild(element);\n    }\n  };var element = document.getElementById(\"1287\");\n  if (element == null) {\n    console.error(\"Bokeh: ERROR: autoload.js configured with elementid '1287' but no matching script tag was found. \")\n    return false;\n  }\n\n  function inject_raw_css(css) {\n    const element = document.createElement(\"style\");\n    element.appendChild(document.createTextNode(css));\n    document.body.appendChild(element);\n  }\n\n  var js_urls = [\"https://cdn.pydata.org/bokeh/release/bokeh-1.3.4.min.js\", \"https://cdn.pydata.org/bokeh/release/bokeh-widgets-1.3.4.min.js\", \"https://cdn.pydata.org/bokeh/release/bokeh-tables-1.3.4.min.js\", \"https://cdn.pydata.org/bokeh/release/bokeh-gl-1.3.4.min.js\"];\n  var css_urls = [];\n\n  var inline_js = [\n    function(Bokeh) {\n      Bokeh.set_log_level(\"info\");\n    },\n    \n    function(Bokeh) {\n      \n    },\n    function(Bokeh) {} // ensure no trailing comma for IE\n  ];\n\n  function run_inline_js() {\n    \n    if ((root.Bokeh !== undefined) || (force === true)) {\n      for (var i = 0; i < inline_js.length; i++) {\n        inline_js[i].call(root, root.Bokeh);\n      }if (force === true) {\n        display_loaded();\n      }} else if (Date.now() < root._bokeh_timeout) {\n      setTimeout(run_inline_js, 100);\n    } else if (!root._bokeh_failed_load) {\n      console.log(\"Bokeh: BokehJS failed to load within specified timeout.\");\n      root._bokeh_failed_load = true;\n    } else if (force !== true) {\n      var cell = $(document.getElementById(\"1287\")).parents('.cell').data().cell;\n      cell.output_area.append_execute_result(NB_LOAD_WARNING)\n    }\n\n  }\n\n  if (root._bokeh_is_loading === 0) {\n    console.debug(\"Bokeh: BokehJS loaded, going straight to plotting\");\n    run_inline_js();\n  } else {\n    load_libs(css_urls, js_urls, function() {\n      console.debug(\"Bokeh: BokehJS plotting callback run at\", now());\n      run_inline_js();\n    });\n  }\n}(window));"
     },
     "metadata": {},
     "output_type": "display_data"
    }
   ],
   "source": [
    "import json\n",
    "import matplotlib.pyplot as plt\n",
    "import numpy as np\n",
    "from operator import itemgetter\n",
    "from pyspark.mllib.linalg.distributed import CoordinateMatrix\n",
    "import pandas as pd\n",
    "from numpy import linalg as LA\n",
    "import pickle\n",
    "from bokeh.io import show, output_notebook\n",
    "from bokeh.plotting import figure, ColumnDataSource\n",
    "from bokeh.models import HoverTool, ResetTool, PanTool, WheelZoomTool, SaveTool\n",
    "output_notebook()\n",
    "from matplotlib.colors import rgb2hex \n",
    "from sklearn.linear_model import LinearRegression\n",
    "\n",
    "%matplotlib inline\n",
    "plt.style.use(\"ggplot\")"
   ]
  },
  {
   "cell_type": "markdown",
   "metadata": {},
   "source": [
    "For some movies we have a vector of scores for each tag (within a closed set of tags). This results in a high-dimensional interpretation of each movie (**\"tag space\"**).\n",
    "\n",
    "* **GOAL:** we want to represent this movies in a lower dimensional space using PCA.\n",
    "\n",
    "Bellow one can see how the data looks like:"
   ]
  },
  {
   "cell_type": "code",
   "execution_count": 2,
   "metadata": {},
   "outputs": [],
   "source": [
    "#!hdfs dfs -cat /ix/ml-20m/genome-tags.txt | tail -n 5"
   ]
  },
  {
   "cell_type": "code",
   "execution_count": 3,
   "metadata": {
    "scrolled": false
   },
   "outputs": [],
   "source": [
    "#!hdfs dfs -cat /ix/ml-20m/genome-scores.txt | tail -n 5"
   ]
  },
  {
   "cell_type": "markdown",
   "metadata": {},
   "source": [
    "Now read the data and create a dictionary mapping each ID with its tag:"
   ]
  },
  {
   "cell_type": "code",
   "execution_count": 4,
   "metadata": {},
   "outputs": [],
   "source": [
    "tags = sc.textFile(\"/ix/ml-20m/genome-tags.txt\").map(json.loads)\n",
    "tag_scores = sc.textFile(\"/ix/ml-20m/genome-scores.txt\").map(json.loads)\n",
    "\n",
    "IDT = dict(tags.map(itemgetter(\"tagId\", \"tag\")).collect())"
   ]
  },
  {
   "cell_type": "markdown",
   "metadata": {},
   "source": [
    "---------------------------------\n",
    "-------------\n",
    "\n",
    "# EXERCISE 3.1\n",
    "\n",
    "Construct an $M*N$ data matrix, where $M$ is the number of tags and $N$ the number of movies.\n",
    "Do not include movies which do not have any tag.\n",
    "\n",
    "* Plot the variance of each dimension (represented by tags) across all movies.\n",
    "* Plot the eigenvalues of the $M*M$ covariance matrix.\n",
    "* Explain the implications for dimensionality reduction.\n",
    "\n",
    "For example, how many principal directions do you need to capture 2/3 of the variability in\n",
    "the data?\n",
    "\n",
    "\n",
    "----------------\n",
    "-----------------------"
   ]
  },
  {
   "cell_type": "markdown",
   "metadata": {},
   "source": [
    "## Matrix $M*N$ ($A$) "
   ]
  },
  {
   "cell_type": "markdown",
   "metadata": {},
   "source": [
    "How can we find the matrix $M*N$? In one file we do have a vector $M*N$ with all the scores for each movie. We should be able to transform that structure into the matrix."
   ]
  },
  {
   "cell_type": "code",
   "execution_count": 5,
   "metadata": {},
   "outputs": [],
   "source": [
    "# As found in the notebook \"Intro_spark_EDA\"\n",
    "M = 1128 # tags\n",
    "N = 10381 # movies with tags"
   ]
  },
  {
   "cell_type": "code",
   "execution_count": 6,
   "metadata": {},
   "outputs": [],
   "source": [
    "matrix = tag_scores.map(itemgetter(\"tagId\", \"movieId\", \"relevance\"))\n",
    "matrix = np.asarray(matrix.collect())"
   ]
  },
  {
   "cell_type": "code",
   "execution_count": 7,
   "metadata": {},
   "outputs": [],
   "source": [
    "#matrix[1:10] # This show the structure [[tagID,movieID,relevance], [...], ...]"
   ]
  },
  {
   "cell_type": "markdown",
   "metadata": {},
   "source": [
    "While creating the matrix, we will keep `moviesID` which will be a vector mapping the index in the matrix of each movie with the real ID."
   ]
  },
  {
   "cell_type": "code",
   "execution_count": 8,
   "metadata": {},
   "outputs": [],
   "source": [
    "n = len(matrix)\n",
    "X = np.zeros((1128,10381)) # 1128 tags, 10381 movies\n",
    "m = -1\n",
    "moviesID = np.zeros(10381)\n",
    "\n",
    "for i in range(0,n):\n",
    "    if i % 1128 == 0:\n",
    "        m = m + 1\n",
    "        moviesID[m] = matrix[i][1]\n",
    "    \n",
    "    X[int(matrix[i][0])-1][m] = matrix[i][2]"
   ]
  },
  {
   "cell_type": "markdown",
   "metadata": {},
   "source": [
    "Now the matrix $X$ has the values we wanted to. **Keep in mind that X rows start at 0 and the real ID starts at 1.** This means that every time to select the row we will have to do `X[id-1,:]`."
   ]
  },
  {
   "cell_type": "markdown",
   "metadata": {},
   "source": [
    "## Variance of each dimension\n",
    "\n",
    "$X = [x_1, ..., x_N]$, is our dataset. Each $x_i$ is a movie of dimension $M$, with all the scores for the different $M$ tags.\n",
    "\n",
    "We want to know the covariance matrix of a given movie $x$. We know that: \n",
    "$$\\mathrm{Var}(x) = \\mathbb{E}[(x-\\mathbb{E}[x])^2]$$\n",
    "Then, we will center our matrix (all the data points, i.e. columns) and then estimate the covariance matrix:\n",
    "1. $X = X - \\overline{X}$\n",
    "2. $\\mathrm{Var}(x) \\approx \\frac{1}{N}X X^T = \\frac{1}{N} \\sum_{i = 1}^N x_i x_i^T$"
   ]
  },
  {
   "cell_type": "code",
   "execution_count": 9,
   "metadata": {},
   "outputs": [],
   "source": [
    "X_center = X - X.mean(1).reshape([1128,1])\n",
    "CX = (1/N)*np.matmul(X_center,np.transpose(X_center))\n",
    "# CX.max() to get an idea of the magnitudes..."
   ]
  },
  {
   "cell_type": "markdown",
   "metadata": {},
   "source": [
    "Now lets plot the diagonal so that we can see the variance of each dimension:"
   ]
  },
  {
   "cell_type": "code",
   "execution_count": 10,
   "metadata": {},
   "outputs": [
    {
     "data": {
      "text/plain": [
       "[<matplotlib.lines.Line2D at 0x7f40fbe70890>]"
      ]
     },
     "execution_count": 10,
     "metadata": {},
     "output_type": "execute_result"
    },
    {
     "data": {
      "image/png": "[encoded data removed]",
      "text/plain": [
       "<Figure size 432x288 with 1 Axes>"
      ]
     },
     "metadata": {
      "needs_background": "light"
     },
     "output_type": "display_data"
    }
   ],
   "source": [
    "var = CX.diagonal()\n",
    "plt.plot(var)"
   ]
  },
  {
   "cell_type": "markdown",
   "metadata": {},
   "source": [
    "## Eigenvalues of the covariance matrix\n",
    "\n",
    "Now we want to find the eigenvalues of the covariance matrix, order, and plot them."
   ]
  },
  {
   "cell_type": "code",
   "execution_count": 11,
   "metadata": {
    "scrolled": true
   },
   "outputs": [
    {
     "name": "stdout",
     "output_type": "stream",
     "text": [
      "The 10 first eigenvalues in order are: [2.75311225 1.22135338 0.99595557 0.66211171 0.58567336 0.47428225\n",
      " 0.46138018 0.39717058 0.34148576 0.28886558]\n"
     ]
    },
    {
     "data": {
      "image/png": "[encoded data removed]",
      "text/plain": [
       "<Figure size 432x288 with 1 Axes>"
      ]
     },
     "metadata": {
      "needs_background": "light"
     },
     "output_type": "display_data"
    }
   ],
   "source": [
    "eva, eve = LA.eig(CX) # All the eigenvector have euclidean norm 1.\n",
    "idx = eva.argsort()[::-1] # this inverts the order (from: < to: >).\n",
    "eva = eva[idx]\n",
    "eve = eve[:,idx]\n",
    "plt.plot(eva)\n",
    "print(\"The 10 first eigenvalues in order are:\", eva[:10])"
   ]
  },
  {
   "cell_type": "markdown",
   "metadata": {},
   "source": [
    "## Implications for dimensionality reduction"
   ]
  },
  {
   "cell_type": "markdown",
   "metadata": {},
   "source": [
    "The implications are that the variance is mostly accumulated in the directions of the first (highest) eigenvalues, which will allow us to draw a low dimensional space in which most of the variance will still be present. Basically we have that:\n",
    "$$X X^T = V D V^T$$\n",
    "$$X X^T = \\sum_{i = 1}^{M}\\lambda_i v_i v_i^T$$\n",
    "Where $V = [v_1,...,v_M]$ (ordered higher to smaller) are the eigenvectors and $D$ the eigenvalues ($\\lambda_i$). Keeping only the highest eigenvalues with their eigenvectors will be able to reconstruct most of the covariance matrix. Furthermore, in that space the covariance matrix is $D$ and the eigenvalues are the directions capturing the variance. Since $D$ is diagonal there is no correlation between dimensions and all the variation is captured in the diagonal when we are in the $V$ space.\n",
    "\n",
    "**NOTE:** All our eigenvalues are positive because the matrix is symetric (positive semidefinite).\n",
    "\n",
    "Now let us see how many directions do we need in order to capture 2/3 of the total variance."
   ]
  },
  {
   "cell_type": "code",
   "execution_count": 12,
   "metadata": {
    "scrolled": true
   },
   "outputs": [
    {
     "name": "stdout",
     "output_type": "stream",
     "text": [
      "The tota variance is 17.100245817365966 and the first 36 directions (1128 in total) account for 66.65145090563263 percent of the total variance.\n"
     ]
    }
   ],
   "source": [
    "print(\"The tota variance is\", sum(eva), \"and the first 36 directions (1128 in total) account for\", 100 * sum(eva[0:36])/sum(eva), \"percent of the total variance.\")"
   ]
  },
  {
   "cell_type": "markdown",
   "metadata": {},
   "source": [
    "---------\n",
    "------\n",
    "\n",
    "# EXERCISE 3.2: Concept Space\n",
    "\n",
    "For the five first principal directions, find the 10 tags that have the highest and lowest\n",
    "coordinates in that direction.\n",
    "\n",
    "* What concepts would you use to describe these dimensions?\n",
    "\n",
    "Create a Python dict which maps every tag (name) to its coordinates in the 5 first principal\n",
    "directions and save it to disk. This will be used later for the clustering exercise.\n",
    "\n",
    "**NOTE:** We are going to find the 10 highest (absolute value) coordinates of each component. This means that within the direction they are the most meaningful tags.\n",
    "\n",
    "-------\n",
    "--------"
   ]
  },
  {
   "cell_type": "markdown",
   "metadata": {},
   "source": [
    "## Principal Components\n",
    "\n",
    "As we have seen before, the first eigenvectors are the directions that capture the most variance possible. Here we will explore the possible meaning of the first 5 dimensions."
   ]
  },
  {
   "cell_type": "code",
   "execution_count": 13,
   "metadata": {},
   "outputs": [],
   "source": [
    "# IMPORTANT TO REMEMBER: pc1 indexes go from 0 to 1127, but real tags are 1 to 1128.\n",
    "pc1 = eve[:,0]\n",
    "pc2 = eve[:,1]\n",
    "pc3 = eve[:,2]\n",
    "pc4 = eve[:,3]\n",
    "pc5 = eve[:,4]"
   ]
  },
  {
   "cell_type": "code",
   "execution_count": 14,
   "metadata": {},
   "outputs": [
    {
     "name": "stdout",
     "output_type": "stream",
     "text": [
      "Towards positive:  ['talky', 'social commentary', 'criterion', 'imdb top 250', 'great acting']\n",
      "Towards negative:  ['silly fun', 'silly', 'bad plot', \"so bad it's funny\", 'predictable']\n"
     ]
    }
   ],
   "source": [
    "aux1 = pc1.argsort()[-5:][::-1]\n",
    "tags1 = [IDT[key+1] for key in aux1]\n",
    "print(\"Towards positive: \", tags1)\n",
    "\n",
    "aux2 = pc1.argsort()[:5][::-1]\n",
    "tags2 = [IDT[key+1] for key in aux2]\n",
    "print(\"Towards negative: \", tags2)"
   ]
  },
  {
   "cell_type": "markdown",
   "metadata": {},
   "source": [
    "In this first dimension:\n",
    "* **Positive direction**: Very good movies incorporating a lot of dialog and with some social criticism.\n",
    "* **Negative direction**: Silly and bad movies which may be funny at points."
   ]
  },
  {
   "cell_type": "code",
   "execution_count": 27,
   "metadata": {},
   "outputs": [
    {
     "name": "stdout",
     "output_type": "stream",
     "text": [
      "Towards positive:  ['intimate', 'relationships', 'criterion', 'melancholic', 'loneliness']\n",
      "Towards negative:  ['fast paced', 'chase', 'big budget', 'special effects', 'action']\n"
     ]
    }
   ],
   "source": [
    "aux1 = pc2.argsort()[-5:][::-1]\n",
    "tags1 = [IDT[key+1] for key in aux1]\n",
    "print(\"Towards positive: \", tags1)\n",
    "\n",
    "aux2 = pc2.argsort()[:5][::-1]\n",
    "tags2 = [IDT[key+1] for key in aux2]\n",
    "print(\"Towards negative: \", tags2)"
   ]
  },
  {
   "cell_type": "markdown",
   "metadata": {},
   "source": [
    "In the second dimension:\n",
    "* **Positive direction**: Emotional, relationships movie.\n",
    "* **Negative direction**: Big budget, with action, special effects, and some chasing involved."
   ]
  },
  {
   "cell_type": "code",
   "execution_count": 35,
   "metadata": {},
   "outputs": [
    {
     "name": "stdout",
     "output_type": "stream",
     "text": [
      "Towards positive:  ['horror', 'weird', 'creepy', 'splatter', 'stylish']\n",
      "Towards negative:  ['touching', 'heartwarming', 'love story', 'sentimental', 'feel-good']\n"
     ]
    }
   ],
   "source": [
    "aux1 = pc3.argsort()[-5:][::-1]\n",
    "tags1 = [IDT[key+1] for key in aux1]\n",
    "print(\"Towards positive: \", tags1)\n",
    "\n",
    "aux2 = pc3.argsort()[:5][::-1]\n",
    "tags2 = [IDT[key+1] for key in aux2]\n",
    "print(\"Towards negative: \", tags2)"
   ]
  },
  {
   "cell_type": "markdown",
   "metadata": {},
   "source": [
    "In the third dimension:\n",
    "* **Positive direction**: Horror, violent, and stylish movie.\n",
    "* **Negative direction**: Touching, sentimental movie."
   ]
  },
  {
   "cell_type": "code",
   "execution_count": 36,
   "metadata": {},
   "outputs": [
    {
     "name": "stdout",
     "output_type": "stream",
     "text": [
      "Towards positive:  ['corruption', 'crime', 'murder', 'police investigation', 'thriller']\n",
      "Towards negative:  ['scifi', 'sci-fi', 'imagination', 'visually stunning', 'visual']\n"
     ]
    }
   ],
   "source": [
    "aux1 = pc4.argsort()[-5:][::-1]\n",
    "tags1 = [IDT[key+1] for key in aux1]\n",
    "print(\"Towards positive: \", tags1)\n",
    "\n",
    "aux2 = pc4.argsort()[:5][::-1]\n",
    "tags2 = [IDT[key+1] for key in aux2]\n",
    "print(\"Towards negative: \", tags2)"
   ]
  },
  {
   "cell_type": "markdown",
   "metadata": {},
   "source": [
    "In the third dimension:\n",
    "* **Positive direction**: Typical thriller movie with crime, police, and corruption.\n",
    "* **Negative direction**: Sci-fi movie with great visuals."
   ]
  },
  {
   "cell_type": "code",
   "execution_count": 37,
   "metadata": {},
   "outputs": [
    {
     "name": "stdout",
     "output_type": "stream",
     "text": [
      "Towards positive:  ['comedy', 'funny', 'hilarious', 'goofy', 'humorous']\n",
      "Towards negative:  ['tense', 'suspenseful', 'secrets', 'conspiracy', 'thriller']\n"
     ]
    }
   ],
   "source": [
    "aux1 = pc5.argsort()[-5:][::-1]\n",
    "tags1 = [IDT[key+1] for key in aux1]\n",
    "print(\"Towards positive: \", tags1)\n",
    "\n",
    "aux2 = pc5.argsort()[:5][::-1]\n",
    "tags2 = [IDT[key+1] for key in aux2]\n",
    "print(\"Towards negative: \", tags2)"
   ]
  },
  {
   "cell_type": "markdown",
   "metadata": {},
   "source": [
    "In the third dimension:\n",
    "* **Positive direction**: Funny comedy.\n",
    "* **Negative direction**: Thriller with secrets, conspiracies and a lot of suspense."
   ]
  },
  {
   "cell_type": "markdown",
   "metadata": {},
   "source": [
    "## Dictionary\n",
    "\n",
    "The dictionary IDT ranges from key 1 to 1128. We will create a dictionary in which every tagID (**i**) will reference the correspondent coordinate of each principal component:\n",
    "``dict[i] = [pc1[i], ..., pc5[i]]``"
   ]
  },
  {
   "cell_type": "code",
   "execution_count": 16,
   "metadata": {},
   "outputs": [],
   "source": [
    "d = {}\n",
    "for i in range(1,1129):\n",
    "    l = [pc1[i-1],pc2[i-1],pc3[i-1],pc4[i-1],pc5[i-1]] # The index in pc1 is 0 to 1127 (real tag 1 to 1128)\n",
    "    d.update({i : l})"
   ]
  },
  {
   "cell_type": "code",
   "execution_count": 17,
   "metadata": {},
   "outputs": [],
   "source": [
    "#d[559] # as expected :)"
   ]
  },
  {
   "cell_type": "markdown",
   "metadata": {},
   "source": [
    "Now to save it:"
   ]
  },
  {
   "cell_type": "code",
   "execution_count": 18,
   "metadata": {},
   "outputs": [],
   "source": [
    "f = open(\"tag_to_5pc\",\"wb\")\n",
    "pickle.dump(d,f)\n",
    "f.close()"
   ]
  },
  {
   "cell_type": "markdown",
   "metadata": {},
   "source": [
    "-------\n",
    "-------\n",
    "\n",
    "\n",
    "# EXERCISE 3.3: Movie Visualization\n",
    "\n",
    "Project the movies of selected-movies.pickle on the first two principal directions.\n",
    "\n",
    "* Create an interactive plot that displays the 2D-projection of the movies using bokeh and its hover tool. Color the nodes by their Rotten Tomatoes score.\n",
    "* Based on your knowledge of these movies and information that you can get from the web, explain the coordinates of a few of the movies.\n",
    "* How do the PCA directions correlate with the Rotten Tomatoes score?\n",
    "\n",
    "Try projecting the movies on subsequent principal directions. Does it make sense based on\n",
    "your knowledge of these movies? (Not needed for the hand-in).\n",
    "\n",
    "----------\n",
    "--------"
   ]
  },
  {
   "cell_type": "code",
   "execution_count": 21,
   "metadata": {},
   "outputs": [],
   "source": [
    "with open(\"selected-movies.pickle\", \"rb\") as f:\n",
    "    movies = pickle.load(f, encoding=\"utf-8\")"
   ]
  },
  {
   "cell_type": "markdown",
   "metadata": {},
   "source": [
    "This is a set of 37 movies, each of them is (movieID, Title, RTScore)."
   ]
  },
  {
   "cell_type": "markdown",
   "metadata": {},
   "source": [
    "## Project the movies on the first 2 components\n",
    "\n",
    "How do we project the images in the first 2 principal components? Given that:\n",
    "$$V^T x_e = x_v$$\n",
    "Meaning the image in the canonical base ($x_e$) or in the eigenvectors space ($x_v$). Since in the $V$ space the vectors are orthogonal (symetric matrix) it can be proven that the projection on the first 2 vectors of $V$ ($v_1,v_2$) will be just keeping the respective coordinates:\n",
    "$$x_v = a_1 v_1 + ... + a_M$$\n",
    "$$x_{\\text{projected}} = a_1 v_1 + a_2 v_2$$"
   ]
  },
  {
   "cell_type": "code",
   "execution_count": 34,
   "metadata": {},
   "outputs": [],
   "source": [
    "aux_id = 1\n",
    "aux = np.where(moviesID == aux_id) # this tells you the position\n",
    "score = A[1:,aux].reshape(M,1)"
   ]
  },
  {
   "cell_type": "code",
   "execution_count": 19,
   "metadata": {},
   "outputs": [],
   "source": [
    "# movies[0] # The structure of movies is [[movieID, title, score],[...],...]"
   ]
  },
  {
   "cell_type": "markdown",
   "metadata": {},
   "source": [
    "Now we want to have a list with ($a_1$, $a_2$, movie name, score) for each movie:"
   ]
  },
  {
   "cell_type": "code",
   "execution_count": 22,
   "metadata": {},
   "outputs": [],
   "source": [
    "l = []\n",
    "for i, e in enumerate(movies):\n",
    "    # First of all the vector:\n",
    "    aux_id = e[0]\n",
    "    aux = np.where(moviesID == aux_id)\n",
    "    x_e = X[:,aux].reshape(M,1) # This is the vector of movies\n",
    "    \n",
    "    # Projection of score to eigenvectors:\n",
    "    x_v = np.dot(np.transpose(eve),x_e) # first 2 components coordinates are projection :)\n",
    "    \n",
    "    l.append([float(x_v[0]),float(x_v[1]),e[1],e[2]]) # (x_1,x_2,title,score)"
   ]
  },
  {
   "cell_type": "code",
   "execution_count": 30,
   "metadata": {
    "scrolled": true
   },
   "outputs": [
    {
     "data": {
      "text/html": [
       "\n",
       "\n",
       "\n",
       "\n",
       "\n",
       "\n",
       "  <div class=\"bk-root\" id=\"ca142fc0-2a23-4a74-8dbc-cd3a4e8b9a63\" data-root-id=\"1294\"></div>\n"
      ]
     },
     "metadata": {},
     "output_type": "display_data"
    },
    {
     "data": {
      "application/javascript": [
       "(function(root) {\n",
       "  function embed_document(root) {\n",
       "    \n",
       "  var docs_json = {\"0bd8678c-af2e-4485-ab06-58a20ac84ebf\":{\"roots\":{\"references\":[{\"attributes\":{\"below\":[{\"id\":\"1305\",\"type\":\"LinearAxis\"}],\"center\":[{\"id\":\"1309\",\"type\":\"Grid\"},{\"id\":\"1314\",\"type\":\"Grid\"}],\"left\":[{\"id\":\"1310\",\"type\":\"LinearAxis\"}],\"plot_height\":360,\"plot_width\":960,\"renderers\":[{\"id\":\"1324\",\"type\":\"GlyphRenderer\"}],\"title\":{\"id\":\"1295\",\"type\":\"Title\"},\"toolbar\":{\"id\":\"1315\",\"type\":\"Toolbar\"},\"x_range\":{\"id\":\"1297\",\"type\":\"DataRange1d\"},\"x_scale\":{\"id\":\"1301\",\"type\":\"LinearScale\"},\"y_range\":{\"id\":\"1299\",\"type\":\"DataRange1d\"},\"y_scale\":{\"id\":\"1303\",\"type\":\"LinearScale\"}},\"id\":\"1294\",\"subtype\":\"Figure\",\"type\":\"Plot\"},{\"attributes\":{},\"id\":\"1303\",\"type\":\"LinearScale\"},{\"attributes\":{},\"id\":\"1291\",\"type\":\"PanTool\"},{\"attributes\":{\"axis_label\":\"PC2\",\"formatter\":{\"id\":\"1350\",\"type\":\"BasicTickFormatter\"},\"ticker\":{\"id\":\"1311\",\"type\":\"BasicTicker\"}},\"id\":\"1310\",\"type\":\"LinearAxis\"},{\"attributes\":{\"source\":{\"id\":\"1288\",\"type\":\"ColumnDataSource\"}},\"id\":\"1325\",\"type\":\"CDSView\"},{\"attributes\":{},\"id\":\"1350\",\"type\":\"BasicTickFormatter\"},{\"attributes\":{},\"id\":\"1290\",\"type\":\"ResetTool\"},{\"attributes\":{},\"id\":\"1352\",\"type\":\"UnionRenderers\"},{\"attributes\":{\"callback\":null},\"id\":\"1299\",\"type\":\"DataRange1d\"},{\"attributes\":{},\"id\":\"1348\",\"type\":\"BasicTickFormatter\"},{\"attributes\":{\"callback\":null,\"data\":{\"color\":[\"#22a884\",\"#b5de2b\",\"#a8db34\",\"#c2df23\",\"#8ed645\",\"#dfe318\",\"#a8db34\",\"#463480\",\"#472e7c\",\"#9bd93c\",\"#6ece58\",\"#9bd93c\",\"#cae11f\",\"#d2e21b\",\"#d2e21b\",\"#23898e\",\"#e5e419\",\"#75d054\",\"#443a83\",\"#b0dd2f\",\"#bddf26\",\"#306a8e\",\"#81d34d\",\"#fde725\",\"#c2df23\",\"#4ec36b\",\"#dfe318\",\"#7ad151\",\"#3bbb75\",\"#2cb17e\",\"#f1e51d\",\"#20928c\",\"#dfe318\",\"#37b878\",\"#8ed645\",\"#b0dd2f\",\"#22a884\"],\"score\":[0.6,0.89,0.87,0.91,0.83,0.95,0.87,0.15,0.13,0.85,0.78,0.85,0.92,0.93,0.93,0.47,0.96,0.79,0.17,0.88,0.9,0.34,0.81,1.0,0.91,0.72,0.95,0.8,0.68,0.64,0.98,0.51,0.95,0.67,0.83,0.88,0.6],\"title\":[\"Independence Day (a.k.a. ID4) (1996)\",\"Spider-Man (2002)\",\"Matrix, The (1999)\",\"Shawshank Redemption, The (1994)\",\"American History X (1998)\",\"Wild Strawberries (Smultronst\\u00e4llet) (1957)\",\"Control (2007)\",\"Miss Congeniality 2: Armed and Fabulous (2005)\",\"Just My Luck (2006)\",\"Santa Sangre (1989)\",\"Videodrome (1983)\",\"Billy Elliot (2000)\",\"Pride (2014)\",\"Jurassic Park (1993)\",\"Star Wars: Episode IV - A New Hope (1977)\",\"Princess Diaries, The (2001)\",\"Schindler's List (1993)\",\"Fight Club (1999)\",\"New York Ripper, The (Squartatore di New York, Lo) (1982)\",\"American Beauty (1999)\",\"City of God (Cidade de Deus) (2002)\",\"Battleship (2012)\",\"Take Care of My Cat (Goyangileul butaghae) (2001)\",\"Terminator, The (1984)\",\"Edge of Tomorrow (2014)\",\"Forrest Gump (1994)\",\"King's Speech, The (2010)\",\"Life Is Beautiful (La Vita \\u00e8 bella) (1997)\",\"Stage Fright (Deliria) (1987)\",\"Ichi the Killer (Koroshiya 1) (2001)\",\"Brazil (1985)\",\"Fountain, The (2006)\",\"Accused, The (1988)\",\"Time to Kill, A (1996)\",\"Ghost Writer, The (2010)\",\"Superbad (2007)\",\"American Pie (1999)\"],\"x\":[1.956319246470656,2.4234730119397296,6.166922994976296,8.263266304963047,8.40728222825496,7.467585235072491,7.309527270150405,0.2763807327027897,0.09133591026512569,5.478011932785144,4.335738415983893,5.112584895129655,5.350205221235813,3.4670611846015564,5.2832496543578245,0.7511985315999707,8.012862850827632,8.4487328896717,2.628179377648639,8.594701228394442,8.862855699951092,0.07895014805737939,2.558724956197571,4.887597829601464,4.35628783180495,6.080402888934181,6.351129429131259,6.608352902835764,4.417500015444917,4.314339943618697,6.342243226893643,5.783400284483887,5.784931428017211,3.755509495583604,5.4392321326182245,3.691139544110918,2.212503735032811],\"y\":[-7.004651322298651,-6.568361706153161,-8.288756869341011,-5.8469793586820655,-4.8791047963082255,-1.0961272811702394,-1.8150512541562518,-2.2894303250116397,-1.8303448652081338,-1.8601570872829656,-1.8528059086619644,-2.2201140873897653,-1.8469216704740534,-7.283029689024385,-7.5765829630719495,-2.300994940111541,-4.795991450586845,-5.661292452125188,-2.9951092439009477,-3.1185938681355037,-4.322910455168623,-4.951407849275806,0.21770525613205716,-7.444349465494815,-7.076629257758814,-5.029462539700722,-3.740124508583709,-3.535904261552032,-2.8265967275157386,-2.5413593613637615,-3.240371167874713,-2.800546758901148,-3.4826050275184874,-3.8082300471480006,-3.7229820948022034,-2.7906872889413754,-3.643259300308139]},\"selected\":{\"id\":\"1353\",\"type\":\"Selection\"},\"selection_policy\":{\"id\":\"1352\",\"type\":\"UnionRenderers\"}},\"id\":\"1288\",\"type\":\"ColumnDataSource\"},{\"attributes\":{\"data_source\":{\"id\":\"1288\",\"type\":\"ColumnDataSource\"},\"glyph\":{\"id\":\"1322\",\"type\":\"Circle\"},\"hover_glyph\":null,\"muted_glyph\":null,\"nonselection_glyph\":{\"id\":\"1323\",\"type\":\"Circle\"},\"selection_glyph\":null,\"view\":{\"id\":\"1325\",\"type\":\"CDSView\"}},\"id\":\"1324\",\"type\":\"GlyphRenderer\"},{\"attributes\":{},\"id\":\"1293\",\"type\":\"SaveTool\"},{\"attributes\":{},\"id\":\"1292\",\"type\":\"WheelZoomTool\"},{\"attributes\":{},\"id\":\"1353\",\"type\":\"Selection\"},{\"attributes\":{},\"id\":\"1301\",\"type\":\"LinearScale\"},{\"attributes\":{\"callback\":null},\"id\":\"1297\",\"type\":\"DataRange1d\"},{\"attributes\":{\"callback\":null,\"tooltips\":[[\"Title\",\"@title\"],[\"Score\",\"@score\"]]},\"id\":\"1289\",\"type\":\"HoverTool\"},{\"attributes\":{\"dimension\":1,\"ticker\":{\"id\":\"1311\",\"type\":\"BasicTicker\"}},\"id\":\"1314\",\"type\":\"Grid\"},{\"attributes\":{\"text\":\"Mouse over the dots\"},\"id\":\"1295\",\"type\":\"Title\"},{\"attributes\":{\"fill_alpha\":{\"value\":0.5},\"fill_color\":{\"field\":\"color\"},\"line_alpha\":{\"value\":0.5},\"line_color\":{\"field\":\"color\"},\"size\":{\"units\":\"screen\",\"value\":20},\"x\":{\"field\":\"x\"},\"y\":{\"field\":\"y\"}},\"id\":\"1322\",\"type\":\"Circle\"},{\"attributes\":{\"active_drag\":\"auto\",\"active_inspect\":\"auto\",\"active_multi\":null,\"active_scroll\":\"auto\",\"active_tap\":\"auto\",\"tools\":[{\"id\":\"1289\",\"type\":\"HoverTool\"},{\"id\":\"1290\",\"type\":\"ResetTool\"},{\"id\":\"1291\",\"type\":\"PanTool\"},{\"id\":\"1292\",\"type\":\"WheelZoomTool\"},{\"id\":\"1293\",\"type\":\"SaveTool\"}]},\"id\":\"1315\",\"type\":\"Toolbar\"},{\"attributes\":{},\"id\":\"1306\",\"type\":\"BasicTicker\"},{\"attributes\":{\"axis_label\":\"PC1\",\"formatter\":{\"id\":\"1348\",\"type\":\"BasicTickFormatter\"},\"ticker\":{\"id\":\"1306\",\"type\":\"BasicTicker\"}},\"id\":\"1305\",\"type\":\"LinearAxis\"},{\"attributes\":{\"ticker\":{\"id\":\"1306\",\"type\":\"BasicTicker\"}},\"id\":\"1309\",\"type\":\"Grid\"},{\"attributes\":{},\"id\":\"1311\",\"type\":\"BasicTicker\"},{\"attributes\":{\"fill_alpha\":{\"value\":0.1},\"fill_color\":{\"value\":\"#1f77b4\"},\"line_alpha\":{\"value\":0.1},\"line_color\":{\"value\":\"#1f77b4\"},\"size\":{\"units\":\"screen\",\"value\":20},\"x\":{\"field\":\"x\"},\"y\":{\"field\":\"y\"}},\"id\":\"1323\",\"type\":\"Circle\"}],\"root_ids\":[\"1294\"]},\"title\":\"Bokeh Application\",\"version\":\"1.3.4\"}};\n",
       "  var render_items = [{\"docid\":\"0bd8678c-af2e-4485-ab06-58a20ac84ebf\",\"notebook_comms_target\":\"1354\",\"roots\":{\"1294\":\"ca142fc0-2a23-4a74-8dbc-cd3a4e8b9a63\"}}];\n",
       "  root.Bokeh.embed.embed_items_notebook(docs_json, render_items);\n",
       "\n",
       "  }\n",
       "  if (root.Bokeh !== undefined) {\n",
       "    embed_document(root);\n",
       "  } else {\n",
       "    var attempts = 0;\n",
       "    var timer = setInterval(function(root) {\n",
       "      if (root.Bokeh !== undefined) {\n",
       "        embed_document(root);\n",
       "        clearInterval(timer);\n",
       "      }\n",
       "      attempts++;\n",
       "      if (attempts > 100) {\n",
       "        console.log(\"Bokeh: ERROR: Unable to run BokehJS code because BokehJS library is missing\");\n",
       "        clearInterval(timer);\n",
       "      }\n",
       "    }, 10, root)\n",
       "  }\n",
       "})(window);"
      ],
      "application/vnd.bokehjs_exec.v0+json": ""
     },
     "metadata": {
      "application/vnd.bokehjs_exec.v0+json": {
       "id": "1294"
      }
     },
     "output_type": "display_data"
    },
    {
     "data": {
      "text/html": [
       "<p><code>&lt;Bokeh Notebook handle for <strong>In[30]</strong>&gt;</code></p>"
      ],
      "text/plain": [
       "<bokeh.io.notebook.CommsHandle at 0x7f40eaf20890>"
      ]
     },
     "execution_count": 30,
     "metadata": {},
     "output_type": "execute_result"
    }
   ],
   "source": [
    "# Continuous colors\n",
    "cmap = plt.get_cmap('viridis')\n",
    "def val2rgb(val):\n",
    "    return rgb2hex(cmap(val)[:3])\n",
    "\n",
    "data = l\n",
    "source = ColumnDataSource(\n",
    "    data={\n",
    "        \"x\": [x[0] for x in data],\n",
    "        \"y\": [x[1] for x in data],\n",
    "        \"title\": [x[2] for x in data],\n",
    "        \"color\": [val2rgb(x[3]) for x in data],\n",
    "        \"score\": [x[3] for x in data]\n",
    "    })\n",
    "\n",
    "hover = HoverTool(\n",
    "    tooltips=[\n",
    "        (\"Title\", \"@title\"), (\"Score\", \"@score\")\n",
    "    ])\n",
    "tools = [hover, ResetTool(), PanTool(), WheelZoomTool(), SaveTool()]\n",
    "\n",
    "p = figure(plot_width=960, plot_height=360, tools=tools, title=\"Mouse over the dots\", x_axis_label = \"PC1\", y_axis_label = \"PC2\")\n",
    "p.circle(\"x\", \"y\", source=source, size=20, color=\"color\", alpha=0.5)\n",
    "show(p, notebook_handle=True)"
   ]
  },
  {
   "cell_type": "markdown",
   "metadata": {},
   "source": [
    "## Explanation for the coordinates of the movies\n",
    "\n",
    "I would like to see the movies and why are where they are:\n",
    "\n",
    "* Schindler's List: It clearly incorporates interesting dialog and social criticism ($PC1 \\approx 8$). Also, it involves chasing from the Nazis and this is why ($PC2 \\approx -4.5$).\n",
    "* Spyder-Man: Since it is a well-known movie $PC1$ is positive, altouhgh not as much because it is not a top one. Clearly an action movie which means $PC2$ negative, as expected.\n",
    "* ..."
   ]
  },
  {
   "cell_type": "markdown",
   "metadata": {},
   "source": [
    "## Correlations\n",
    "\n",
    "Looking at the plot above it seems that the higher values of the first component and lower of the second imply better results. However, one can clearly see that $PC1$ is much more correlated than $PC2$. This stems from the descriptions made from them before. $PC1$ was basically explaining a good movie vs a bad movie with some specificities. This is why it explains so much the quality of the movie."
   ]
  },
  {
   "cell_type": "code",
   "execution_count": 28,
   "metadata": {},
   "outputs": [
    {
     "data": {
      "text/plain": [
       "[<matplotlib.lines.Line2D at 0x7f40ead93a50>]"
      ]
     },
     "execution_count": 28,
     "metadata": {},
     "output_type": "execute_result"
    },
    {
     "data": {
      "image/png": "[encoded data removed]",
      "text/plain": [
       "<Figure size 432x288 with 1 Axes>"
      ]
     },
     "metadata": {},
     "output_type": "display_data"
    }
   ],
   "source": [
    "c1 = np.array([aux[0] for aux in l]).reshape(-1,1)\n",
    "sc = np.array([aux[3] for aux in l]).reshape(-1,1)\n",
    "\n",
    "linear_regressor = LinearRegression()\n",
    "linear_regressor.fit(c1, sc)  # perform linear regression\n",
    "sc_pred = linear_regressor.predict(c1)  # make predictions\n",
    "plt.scatter(c1, sc, c='blue')\n",
    "plt.title(\"Score correlated with PC1\")\n",
    "plt.xlabel(\"PC1\")\n",
    "plt.ylabel(\"Score\")\n",
    "plt.plot(c1, sc_pred, color='red')"
   ]
  },
  {
   "cell_type": "code",
   "execution_count": 29,
   "metadata": {},
   "outputs": [
    {
     "data": {
      "text/plain": [
       "[<matplotlib.lines.Line2D at 0x7f40eaf71c90>]"
      ]
     },
     "execution_count": 29,
     "metadata": {},
     "output_type": "execute_result"
    },
    {
     "data": {
      "image/png": "[encoded data removed]",
      "text/plain": [
       "<Figure size 432x288 with 1 Axes>"
      ]
     },
     "metadata": {},
     "output_type": "display_data"
    }
   ],
   "source": [
    "c2 = np.array([aux[1] for aux in l]).reshape(-1,1)\n",
    "sc = np.array([aux[3] for aux in l]).reshape(-1,1)\n",
    "\n",
    "linear_regressor = LinearRegression()\n",
    "linear_regressor.fit(c2, sc)  # perform linear regression\n",
    "sc_pred = linear_regressor.predict(c2)  # make predictions\n",
    "plt.scatter(c2, sc, c='blue')\n",
    "plt.title(\"Score correlated with PC2\")\n",
    "plt.ylabel(\"Score\")\n",
    "plt.xlabel(\"PC2\")\n",
    "plt.plot(c2, sc_pred, color='red')"
   ]
  },
  {
   "cell_type": "markdown",
   "metadata": {},
   "source": [
    "## Projections on other interesting components\n",
    "\n",
    "Let us see now the projection on the 4th and 5th components. "
   ]
  },
  {
   "cell_type": "code",
   "execution_count": 34,
   "metadata": {},
   "outputs": [],
   "source": [
    "l = []\n",
    "for i, e in enumerate(movies):\n",
    "    # First of all the vector:\n",
    "    aux_id = e[0]\n",
    "    aux = np.where(moviesID == aux_id)\n",
    "    x_e = X[:,aux].reshape(M,1) # This is the vector of movies\n",
    "    \n",
    "    # Projection of score to eigenvectors:\n",
    "    x_v = np.dot(np.transpose(eve),x_e) # first 2 components coordinates are projection :)\n",
    "    \n",
    "    l.append([float(x_v[3]),float(x_v[4]),e[1],e[2]]) # (x_1,x_2,title,score)"
   ]
  },
  {
   "cell_type": "code",
   "execution_count": 35,
   "metadata": {},
   "outputs": [
    {
     "data": {
      "text/html": [
       "\n",
       "\n",
       "\n",
       "\n",
       "\n",
       "\n",
       "  <div class=\"bk-root\" id=\"8ac5e521-e43a-4a9c-8b8a-fb847afb9a8d\" data-root-id=\"1642\"></div>\n"
      ]
     },
     "metadata": {},
     "output_type": "display_data"
    },
    {
     "data": {
      "application/javascript": [
       "(function(root) {\n",
       "  function embed_document(root) {\n",
       "    \n",
       "  var docs_json = {\"eba31aee-04fe-4a7b-be9e-4fa546dd1ecf\":{\"roots\":{\"references\":[{\"attributes\":{\"below\":[{\"id\":\"1653\",\"type\":\"LinearAxis\"}],\"center\":[{\"id\":\"1657\",\"type\":\"Grid\"},{\"id\":\"1662\",\"type\":\"Grid\"}],\"left\":[{\"id\":\"1658\",\"type\":\"LinearAxis\"}],\"plot_height\":360,\"plot_width\":960,\"renderers\":[{\"id\":\"1672\",\"type\":\"GlyphRenderer\"}],\"title\":{\"id\":\"1643\",\"type\":\"Title\"},\"toolbar\":{\"id\":\"1663\",\"type\":\"Toolbar\"},\"x_range\":{\"id\":\"1645\",\"type\":\"DataRange1d\"},\"x_scale\":{\"id\":\"1649\",\"type\":\"LinearScale\"},\"y_range\":{\"id\":\"1647\",\"type\":\"DataRange1d\"},\"y_scale\":{\"id\":\"1651\",\"type\":\"LinearScale\"}},\"id\":\"1642\",\"subtype\":\"Figure\",\"type\":\"Plot\"},{\"attributes\":{\"data_source\":{\"id\":\"1636\",\"type\":\"ColumnDataSource\"},\"glyph\":{\"id\":\"1670\",\"type\":\"Circle\"},\"hover_glyph\":null,\"muted_glyph\":null,\"nonselection_glyph\":{\"id\":\"1671\",\"type\":\"Circle\"},\"selection_glyph\":null,\"view\":{\"id\":\"1673\",\"type\":\"CDSView\"}},\"id\":\"1672\",\"type\":\"GlyphRenderer\"},{\"attributes\":{},\"id\":\"1638\",\"type\":\"ResetTool\"},{\"attributes\":{\"active_drag\":\"auto\",\"active_inspect\":\"auto\",\"active_multi\":null,\"active_scroll\":\"auto\",\"active_tap\":\"auto\",\"tools\":[{\"id\":\"1637\",\"type\":\"HoverTool\"},{\"id\":\"1638\",\"type\":\"ResetTool\"},{\"id\":\"1639\",\"type\":\"PanTool\"},{\"id\":\"1640\",\"type\":\"WheelZoomTool\"},{\"id\":\"1641\",\"type\":\"SaveTool\"}]},\"id\":\"1663\",\"type\":\"Toolbar\"},{\"attributes\":{\"fill_alpha\":{\"value\":0.5},\"fill_color\":{\"field\":\"color\"},\"line_alpha\":{\"value\":0.5},\"line_color\":{\"field\":\"color\"},\"size\":{\"units\":\"screen\",\"value\":20},\"x\":{\"field\":\"x\"},\"y\":{\"field\":\"y\"}},\"id\":\"1670\",\"type\":\"Circle\"},{\"attributes\":{},\"id\":\"1721\",\"type\":\"UnionRenderers\"},{\"attributes\":{},\"id\":\"1641\",\"type\":\"SaveTool\"},{\"attributes\":{},\"id\":\"1640\",\"type\":\"WheelZoomTool\"},{\"attributes\":{},\"id\":\"1719\",\"type\":\"BasicTickFormatter\"},{\"attributes\":{\"text\":\"Mouse over the dots\"},\"id\":\"1643\",\"type\":\"Title\"},{\"attributes\":{\"callback\":null,\"data\":{\"color\":[\"#22a884\",\"#b5de2b\",\"#a8db34\",\"#c2df23\",\"#8ed645\",\"#dfe318\",\"#a8db34\",\"#463480\",\"#472e7c\",\"#9bd93c\",\"#6ece58\",\"#9bd93c\",\"#cae11f\",\"#d2e21b\",\"#d2e21b\",\"#23898e\",\"#e5e419\",\"#75d054\",\"#443a83\",\"#b0dd2f\",\"#bddf26\",\"#306a8e\",\"#81d34d\",\"#fde725\",\"#c2df23\",\"#4ec36b\",\"#dfe318\",\"#7ad151\",\"#3bbb75\",\"#2cb17e\",\"#f1e51d\",\"#20928c\",\"#dfe318\",\"#37b878\",\"#8ed645\",\"#b0dd2f\",\"#22a884\"],\"score\":[0.6,0.89,0.87,0.91,0.83,0.95,0.87,0.15,0.13,0.85,0.78,0.85,0.92,0.93,0.93,0.47,0.96,0.79,0.17,0.88,0.9,0.34,0.81,1.0,0.91,0.72,0.95,0.8,0.68,0.64,0.98,0.51,0.95,0.67,0.83,0.88,0.6],\"title\":[\"Independence Day (a.k.a. ID4) (1996)\",\"Spider-Man (2002)\",\"Matrix, The (1999)\",\"Shawshank Redemption, The (1994)\",\"American History X (1998)\",\"Wild Strawberries (Smultronst\\u00e4llet) (1957)\",\"Control (2007)\",\"Miss Congeniality 2: Armed and Fabulous (2005)\",\"Just My Luck (2006)\",\"Santa Sangre (1989)\",\"Videodrome (1983)\",\"Billy Elliot (2000)\",\"Pride (2014)\",\"Jurassic Park (1993)\",\"Star Wars: Episode IV - A New Hope (1977)\",\"Princess Diaries, The (2001)\",\"Schindler's List (1993)\",\"Fight Club (1999)\",\"New York Ripper, The (Squartatore di New York, Lo) (1982)\",\"American Beauty (1999)\",\"City of God (Cidade de Deus) (2002)\",\"Battleship (2012)\",\"Take Care of My Cat (Goyangileul butaghae) (2001)\",\"Terminator, The (1984)\",\"Edge of Tomorrow (2014)\",\"Forrest Gump (1994)\",\"King's Speech, The (2010)\",\"Life Is Beautiful (La Vita \\u00e8 bella) (1997)\",\"Stage Fright (Deliria) (1987)\",\"Ichi the Killer (Koroshiya 1) (2001)\",\"Brazil (1985)\",\"Fountain, The (2006)\",\"Accused, The (1988)\",\"Time to Kill, A (1996)\",\"Ghost Writer, The (2010)\",\"Superbad (2007)\",\"American Pie (1999)\"],\"x\":[-2.228539981802327,-1.3438247817924505,-3.601726040015773,-1.3196544880176768,1.2099595247586703,-2.6128198665807543,-1.2698813924967254,-0.021155428956489725,0.076200551999906,-1.9354402922732783,-1.2677962119198538,-0.6661979997639937,0.33624501629403264,-2.6111913601586183,-3.691589468229176,0.09088626460269539,-0.21364359883710204,-1.0114673905750102,0.4424416591746246,-0.8323023201991315,-0.2689986987718384,-2.1111077438318637,-1.3554881335946232,-2.1608214731722866,-2.377316136551872,-1.5163397192165855,0.04100516196328352,-1.5325324997241285,-0.05868593248634321,0.06551610945066513,-3.6645601105290515,-4.274082500964724,2.3908258305169734,1.9237821163122069,1.1754826972464325,0.6608958399635292,0.9483018547443585],\"y\":[0.8860158576686559,2.576801298009148,1.4712334239229994,2.1900564802573084,2.2167984589591256,1.953694934503451,2.465293894133061,1.6212590484071139,1.6083273796733304,1.5488220951127207,1.2152484801939751,2.3588656373501635,2.0907154030126542,1.1696859909907737,1.99133829953957,2.2394149645633705,0.950313940582021,3.0344275696326215,1.0079969101275739,3.678249045531746,2.90254560340644,0.723344569210723,0.7370561417475396,1.5253774707419911,1.1021572873594945,2.8885751394072354,0.9633769475523036,2.155034342594614,2.3930286766511664,2.2594616030579537,1.6256133084298203,1.0098985568387415,0.9508969410694634,0.283269083950502,-0.8514339900986772,4.901666717682602,4.674231180954427]},\"selected\":{\"id\":\"1722\",\"type\":\"Selection\"},\"selection_policy\":{\"id\":\"1721\",\"type\":\"UnionRenderers\"}},\"id\":\"1636\",\"type\":\"ColumnDataSource\"},{\"attributes\":{},\"id\":\"1639\",\"type\":\"PanTool\"},{\"attributes\":{\"fill_alpha\":{\"value\":0.1},\"fill_color\":{\"value\":\"#1f77b4\"},\"line_alpha\":{\"value\":0.1},\"line_color\":{\"value\":\"#1f77b4\"},\"size\":{\"units\":\"screen\",\"value\":20},\"x\":{\"field\":\"x\"},\"y\":{\"field\":\"y\"}},\"id\":\"1671\",\"type\":\"Circle\"},{\"attributes\":{\"callback\":null},\"id\":\"1645\",\"type\":\"DataRange1d\"},{\"attributes\":{\"source\":{\"id\":\"1636\",\"type\":\"ColumnDataSource\"}},\"id\":\"1673\",\"type\":\"CDSView\"},{\"attributes\":{},\"id\":\"1722\",\"type\":\"Selection\"},{\"attributes\":{},\"id\":\"1649\",\"type\":\"LinearScale\"},{\"attributes\":{},\"id\":\"1717\",\"type\":\"BasicTickFormatter\"},{\"attributes\":{\"callback\":null},\"id\":\"1647\",\"type\":\"DataRange1d\"},{\"attributes\":{},\"id\":\"1651\",\"type\":\"LinearScale\"},{\"attributes\":{\"callback\":null,\"tooltips\":[[\"Title\",\"@title\"],[\"Score\",\"@score\"]]},\"id\":\"1637\",\"type\":\"HoverTool\"},{\"attributes\":{\"dimension\":1,\"ticker\":{\"id\":\"1659\",\"type\":\"BasicTicker\"}},\"id\":\"1662\",\"type\":\"Grid\"},{\"attributes\":{\"axis_label\":\"PC4\",\"formatter\":{\"id\":\"1717\",\"type\":\"BasicTickFormatter\"},\"ticker\":{\"id\":\"1654\",\"type\":\"BasicTicker\"}},\"id\":\"1653\",\"type\":\"LinearAxis\"},{\"attributes\":{\"axis_label\":\"PC5\",\"formatter\":{\"id\":\"1719\",\"type\":\"BasicTickFormatter\"},\"ticker\":{\"id\":\"1659\",\"type\":\"BasicTicker\"}},\"id\":\"1658\",\"type\":\"LinearAxis\"},{\"attributes\":{},\"id\":\"1654\",\"type\":\"BasicTicker\"},{\"attributes\":{\"ticker\":{\"id\":\"1654\",\"type\":\"BasicTicker\"}},\"id\":\"1657\",\"type\":\"Grid\"},{\"attributes\":{},\"id\":\"1659\",\"type\":\"BasicTicker\"}],\"root_ids\":[\"1642\"]},\"title\":\"Bokeh Application\",\"version\":\"1.3.4\"}};\n",
       "  var render_items = [{\"docid\":\"eba31aee-04fe-4a7b-be9e-4fa546dd1ecf\",\"notebook_comms_target\":\"1723\",\"roots\":{\"1642\":\"8ac5e521-e43a-4a9c-8b8a-fb847afb9a8d\"}}];\n",
       "  root.Bokeh.embed.embed_items_notebook(docs_json, render_items);\n",
       "\n",
       "  }\n",
       "  if (root.Bokeh !== undefined) {\n",
       "    embed_document(root);\n",
       "  } else {\n",
       "    var attempts = 0;\n",
       "    var timer = setInterval(function(root) {\n",
       "      if (root.Bokeh !== undefined) {\n",
       "        embed_document(root);\n",
       "        clearInterval(timer);\n",
       "      }\n",
       "      attempts++;\n",
       "      if (attempts > 100) {\n",
       "        console.log(\"Bokeh: ERROR: Unable to run BokehJS code because BokehJS library is missing\");\n",
       "        clearInterval(timer);\n",
       "      }\n",
       "    }, 10, root)\n",
       "  }\n",
       "})(window);"
      ],
      "application/vnd.bokehjs_exec.v0+json": ""
     },
     "metadata": {
      "application/vnd.bokehjs_exec.v0+json": {
       "id": "1642"
      }
     },
     "output_type": "display_data"
    },
    {
     "data": {
      "text/html": [
       "<p><code>&lt;Bokeh Notebook handle for <strong>In[35]</strong>&gt;</code></p>"
      ],
      "text/plain": [
       "<bokeh.io.notebook.CommsHandle at 0x7f40eb00e790>"
      ]
     },
     "execution_count": 35,
     "metadata": {},
     "output_type": "execute_result"
    }
   ],
   "source": [
    "# Continuous colors\n",
    "cmap = plt.get_cmap('viridis')\n",
    "def val2rgb(val):\n",
    "    return rgb2hex(cmap(val)[:3])\n",
    "\n",
    "data = l\n",
    "source = ColumnDataSource(\n",
    "    data={\n",
    "        \"x\": [x[0] for x in data],\n",
    "        \"y\": [x[1] for x in data],\n",
    "        \"title\": [x[2] for x in data],\n",
    "        \"color\": [val2rgb(x[3]) for x in data],\n",
    "        \"score\": [x[3] for x in data]\n",
    "    })\n",
    "\n",
    "hover = HoverTool(\n",
    "    tooltips=[\n",
    "        (\"Title\", \"@title\"), (\"Score\", \"@score\")\n",
    "    ])\n",
    "tools = [hover, ResetTool(), PanTool(), WheelZoomTool(), SaveTool()]\n",
    "\n",
    "p = figure(plot_width=960, plot_height=360, tools=tools, title=\"Mouse over the dots\", x_axis_label = \"PC4\", y_axis_label = \"PC5\")\n",
    "p.circle(\"x\", \"y\", source=source, size=20, color=\"color\", alpha=0.5)\n",
    "show(p, notebook_handle=True)"
   ]
  },
  {
   "cell_type": "markdown",
   "metadata": {},
   "source": [
    "An interesting thing to point out here is that one can already see how $PC5$ explains way less than the previous components. It only encompasses 6 points (from -1 to 5), whereas the other components did 8, and most of the points are very similar if projected in this axis. Basically $PC5$ is starting to be less informative than previous components as expected.\n",
    "\n",
    "* The Accused: this movie is a crime thriller, this is why $PC4$ is positive.\n",
    "* The Fountain: science fiction movie, which is why $PC4$ very negative.\n",
    "* American Pie: clearly a comedy, hence $PC5$ very high."
   ]
  }
 ],
 "metadata": {
  "kernelspec": {
   "display_name": "Python 3",
   "language": "python",
   "name": "python3"
  },
  "language_info": {
   "codemirror_mode": {
    "name": "ipython",
    "version": 3
   },
   "file_extension": ".py",
   "mimetype": "text/x-python",
   "name": "python",
   "nbconvert_exporter": "python",
   "pygments_lexer": "ipython3",
   "version": "3.7.4"
  }
 },
 "nbformat": 4,
 "nbformat_minor": 2
}
